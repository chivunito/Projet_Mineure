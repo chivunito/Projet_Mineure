{
 "cells": [
  {
   "cell_type": "code",
   "execution_count": 7,
   "metadata": {
    "collapsed": true
   },
   "outputs": [],
   "source": [
    "import numpy as np\n",
    "import datetime as dt\n",
    "import math\n",
    "from minilp import *\n",
    "import minilp.result\n",
    "from Multiple_knapsack import Multiple_knapsack"
   ]
  },
  {
   "cell_type": "code",
   "execution_count": 8,
   "metadata": {
    "collapsed": true
   },
   "outputs": [],
   "source": [
    "\n",
    "\n",
    "def get_first_non_integral(p, s):\n",
    "    \"\"\" Given a problem p and a result s, returns the first integer variables\n",
    "    that has a fractional value in s, or None if no such variable was found. \"\"\"\n",
    "    for v in p.variables:\n",
    "        if v.category == int:\n",
    "            if abs(round(s.get_value(v)) - s.get_value(v)) > 1e-6:\n",
    "                return v\n",
    "    return None\n",
    "\n",
    "def banb(p, lp_solver=None):\n",
    "    if lp_solver is None:\n",
    "        lp_solver = solvers.get_default_solver()\n",
    "    def cmp(l, r):\n",
    "        if np.isnan(r.objective):\n",
    "            return True\n",
    "        if p.sense == min:\n",
    "            return l.objective < r.objective\n",
    "        return l.objective > r.objective\n",
    "\n",
    "    res = minilp.result.result()\n",
    "    #res = p.lp_solve(lp_solver)\n",
    "    nodes = [[]] # nodes = list of constraints\n",
    "    cnt = 0\n",
    "    \n",
    "    print('B&B using {} to solve linear relaxation'.format(lp_solver.__class__.__name__))\n",
    "    while nodes:\n",
    "        if cnt % 10 == 0:\n",
    "            print('{} {:5d} {:5d} {:9g}'.format(dt.datetime.now().strftime('%T'), cnt, \n",
    "                                                len(nodes), res.objective))\n",
    "        cnt += 1\n",
    "        cns = nodes.pop()\n",
    "        cs = p.add_constraints(cns)\n",
    "        s = p.lp_solve(lp_solver)\n",
    "        p.del_constraints(cs)\n",
    "        if s:\n",
    "            fni = get_first_non_integral(p, s)\n",
    "            if fni is None: # integral solution\n",
    "                if cmp(s, res):\n",
    "                    res = s\n",
    "                    print('{} {:5d} {:5d} {:9g}*'.format(dt.datetime.now().strftime('%T'), cnt, \n",
    "                                                         len(nodes), res.objective))\n",
    "            elif cmp(s, res):\n",
    "                fl = math.floor(s.get_value(fni))\n",
    "                nodes.append(cns + [fni <= fl])\n",
    "                nodes.append(cns + [fni >= fl + 1])\n",
    "    return res"
   ]
  },
  {
   "cell_type": "code",
   "execution_count": 9,
   "metadata": {},
   "outputs": [
    {
     "name": "stdout",
     "output_type": "stream",
     "text": [
      "[7, 8, 8, 8]\n"
     ]
    }
   ],
   "source": [
    "from Multiple_knapsack import Multiple_knapsack\n",
    "\n",
    "pb = Multiple_knapsack(\"Sources_Files/dc2.in\")\n",
    "a = pb.servers\n",
    "pb.fileToProblem()\n",
    "s = pb.flat()\n",
    "c = []\n",
    "z = []\n",
    "servers = pb.servers\n",
    "nb_servers = len(servers)\n",
    "nb_sacs = len(s)\n",
    "for server in servers:\n",
    "    z.append(server[0])\n",
    "    c.append(server[1])\n",
    "print(s)"
   ]
  },
  {
   "cell_type": "code",
   "execution_count": 10,
   "metadata": {},
   "outputs": [
    {
     "data": {
      "text/plain": [
       "[10, 10, 5, 5, 1, 50, 50, 100, 100, 100]"
      ]
     },
     "execution_count": 10,
     "metadata": {},
     "output_type": "execute_result"
    }
   ],
   "source": [
    "c"
   ]
  },
  {
   "cell_type": "code",
   "execution_count": 15,
   "metadata": {},
   "outputs": [
    {
     "name": "stdout",
     "output_type": "stream",
     "text": [
      "B&B using docplex to solve linear relaxation\n",
      "11:57:50     0     1       nan\n",
      "11:57:51    10     3       nan\n",
      "11:57:51    19     4       325*\n",
      "11:57:51    20     3       325\n",
      "11:57:51    30     3       325\n",
      "11:57:51    40     3       325\n",
      "11:57:52    50     3       325\n",
      "11:57:52    60     3       325\n",
      "11:57:52    70     1       325\n",
      "11:57:52    80     3       325\n",
      "11:57:53    90     3       325\n",
      "11:57:53   100     3       325\n",
      "11:57:53   101     2       325*\n",
      "11:57:53   110     3       325\n",
      "11:57:53   120     3       325\n",
      "status = optimal, obj. = 325.00000000000006\n"
     ]
    }
   ],
   "source": [
    "lp = problem('PLNE')\n",
    "\n",
    "#existence of a server i in a line j\n",
    "e = np.array(lp.integer_var_list(nb_sacs*nb_servers,0,1)).reshape(nb_sacs,nb_servers)\n",
    "\n",
    "#a server appears only one time\n",
    "for i in range(nb_servers):\n",
    "    lp.add_constraint(sum(e.T[i]) <= 1)\n",
    "\n",
    "for j in range(nb_sacs):\n",
    "    lp.add_constraint( sum(e[j]*z) <= s[j] )\n",
    "\n",
    "lp.set_objective( sum(sum(e*c)), sense=max)\n",
    "\n",
    "result=banb(lp)\n",
    "print(result)"
   ]
  },
  {
   "cell_type": "code",
   "execution_count": 23,
   "metadata": {},
   "outputs": [
    {
     "name": "stdout",
     "output_type": "stream",
     "text": [
      "[1.0, 0, 0, 0, 0, 1.0, 0, 0, 0, 0]\n",
      "[0, 0, 0, 0, 0, 0, 0, 0, 1.0, 0]\n",
      "[0, 1.0, 0, 1.0, 0, 0, 1.0, 0, 0, 0]\n",
      "[0, 0, 0, 0, 0, 0, 0, 1.0, 0, 0]\n"
     ]
    }
   ],
   "source": [
    "res_e = []\n",
    "for j in range(nb_sacs):\n",
    "    res_e.append(result.get_values(e[j]))\n",
    "    print(res_e[j])"
   ]
  },
  {
   "cell_type": "code",
   "execution_count": 11,
   "metadata": {
    "collapsed": true
   },
   "outputs": [],
   "source": [
    "\n",
    "\n",
    "class PLNE():\n",
    "    def __init__(self):\n",
    "        self.flat = 0                # sizes of knapsacks \n",
    "        self.nb_knapsack = 0         # amount of knapsack\n",
    "        self.servers = 0             # list of servers\n",
    "        self.nb_servers = 0          # amount of servers\n",
    "        self.existence_servers = []  # existence of a server j in knapsack i\n",
    "        self.sizes_server = []       # size of servers\n",
    "        self.capacities_server = []  # calculating capacity of servers\n",
    "        self.result = []             # final result of existence_servers\n",
    "        self.time_consumption = None # time comsumption of PLNE method\n",
    "        \n",
    "    def read_file(self, path):\n",
    "        #read file and import variable values, more details are in Multiple_knapsack.py\n",
    "        pb = Multiple_knapsack(path)         \n",
    "        self.servers = pb.servers\n",
    "        self.flat = pb.flat()\n",
    "        self.nb_knapsack = len(pb.flat())\n",
    "        self.nb_servers = len(self.servers)\n",
    "        for server in self.servers:\n",
    "            self.sizes_server.append(server[0])\n",
    "            self.capacities_server.append(server[1])\n",
    "            \n",
    "    def solve(self):\n",
    "        #solve the problem\n",
    "        start_time = time.time()\n",
    "        lp = problem('PLNE')\n",
    "        self.existence_servers = np.array(lp.integer_var_list(self.nb_knapsack*self.nb_servers,0,1)) \\\n",
    "                                                        .reshape(self.nb_knapsack,self.nb_servers)\n",
    "        # a server exists only one time\n",
    "        for i in range(self.nb_servers):\n",
    "            lp.add_constraint(sum(self.existence_servers.T[i]) <= 1)\n",
    "        # each sac has limited size\n",
    "        for j in range(self.nb_knapsack):\n",
    "            lp.add_constraint( sum(self.existence_servers[j]*self.sizes_server) <= self.flat[j] )\n",
    "        # set objective function to be maximized\n",
    "        lp.set_objective( sum(sum(self.existence_servers*self.capacities_server)), sense=max)\n",
    "        result=banb(lp)\n",
    "        \n",
    "        self.time_consumption = time.time() - start_time\n",
    "        # get the existence of servers in each knapsack\n",
    "        for j in range(self.nb_knapsack):\n",
    "            self.result.append(result.get_values(self.existence_servers[j]))\n",
    "        print(\"OK, problem is solved within %.2f seconds\" %(self.time_consumption))"
   ]
  },
  {
   "cell_type": "code",
   "execution_count": null,
   "metadata": {
    "collapsed": true
   },
   "outputs": [],
   "source": []
  },
  {
   "cell_type": "code",
   "execution_count": 12,
   "metadata": {},
   "outputs": [
    {
     "ename": "NameError",
     "evalue": "name 'banb' is not defined",
     "output_type": "error",
     "traceback": [
      "\u001b[0;31m---------------------------------------------------------------------------\u001b[0m",
      "\u001b[0;31mNameError\u001b[0m                                 Traceback (most recent call last)",
      "\u001b[0;32m<ipython-input-12-3084f1d07a00>\u001b[0m in \u001b[0;36m<module>\u001b[0;34m()\u001b[0m\n\u001b[1;32m      1\u001b[0m \u001b[0maaa\u001b[0m\u001b[0;34m=\u001b[0m\u001b[0mPLNE\u001b[0m\u001b[0;34m(\u001b[0m\u001b[0;34m)\u001b[0m\u001b[0;34m\u001b[0m\u001b[0m\n\u001b[1;32m      2\u001b[0m \u001b[0maaa\u001b[0m\u001b[0;34m.\u001b[0m\u001b[0mread_file\u001b[0m\u001b[0;34m(\u001b[0m\u001b[0;34m\"Sources_Files/dc2.in\"\u001b[0m\u001b[0;34m)\u001b[0m\u001b[0;34m\u001b[0m\u001b[0m\n\u001b[0;32m----> 3\u001b[0;31m \u001b[0maaa\u001b[0m\u001b[0;34m.\u001b[0m\u001b[0msolve\u001b[0m\u001b[0;34m(\u001b[0m\u001b[0;34m)\u001b[0m\u001b[0;34m\u001b[0m\u001b[0m\n\u001b[0m\u001b[1;32m      4\u001b[0m \u001b[0maaa\u001b[0m\u001b[0;34m.\u001b[0m\u001b[0mresult\u001b[0m\u001b[0;34m\u001b[0m\u001b[0m\n",
      "\u001b[0;32m<ipython-input-11-2ca9ae1a8981>\u001b[0m in \u001b[0;36msolve\u001b[0;34m(self)\u001b[0m\n\u001b[1;32m     42\u001b[0m         \u001b[0;31m# set objective function to be maximized\u001b[0m\u001b[0;34m\u001b[0m\u001b[0;34m\u001b[0m\u001b[0m\n\u001b[1;32m     43\u001b[0m         \u001b[0mlp\u001b[0m\u001b[0;34m.\u001b[0m\u001b[0mset_objective\u001b[0m\u001b[0;34m(\u001b[0m \u001b[0msum\u001b[0m\u001b[0;34m(\u001b[0m\u001b[0msum\u001b[0m\u001b[0;34m(\u001b[0m\u001b[0mself\u001b[0m\u001b[0;34m.\u001b[0m\u001b[0mexistence_servers\u001b[0m\u001b[0;34m*\u001b[0m\u001b[0mself\u001b[0m\u001b[0;34m.\u001b[0m\u001b[0mcapacities_server\u001b[0m\u001b[0;34m)\u001b[0m\u001b[0;34m)\u001b[0m\u001b[0;34m,\u001b[0m \u001b[0msense\u001b[0m\u001b[0;34m=\u001b[0m\u001b[0mmax\u001b[0m\u001b[0;34m)\u001b[0m\u001b[0;34m\u001b[0m\u001b[0m\n\u001b[0;32m---> 44\u001b[0;31m         \u001b[0mresult\u001b[0m\u001b[0;34m=\u001b[0m\u001b[0mbanb\u001b[0m\u001b[0;34m(\u001b[0m\u001b[0mlp\u001b[0m\u001b[0;34m)\u001b[0m\u001b[0;34m\u001b[0m\u001b[0m\n\u001b[0m\u001b[1;32m     45\u001b[0m \u001b[0;34m\u001b[0m\u001b[0m\n\u001b[1;32m     46\u001b[0m         \u001b[0mself\u001b[0m\u001b[0;34m.\u001b[0m\u001b[0mtime_consumption\u001b[0m \u001b[0;34m=\u001b[0m \u001b[0mtime\u001b[0m\u001b[0;34m.\u001b[0m\u001b[0mtime\u001b[0m\u001b[0;34m(\u001b[0m\u001b[0;34m)\u001b[0m \u001b[0;34m-\u001b[0m \u001b[0mstart_time\u001b[0m\u001b[0;34m\u001b[0m\u001b[0m\n",
      "\u001b[0;31mNameError\u001b[0m: name 'banb' is not defined"
     ]
    }
   ],
   "source": [
    "aaa=PLNE()\n",
    "aaa.read_file(\"Sources_Files/dc2.in\")\n",
    "aaa.solve()\n",
    "aaa.result"
   ]
  },
  {
   "cell_type": "code",
   "execution_count": 6,
   "metadata": {},
   "outputs": [
    {
     "name": "stdout",
     "output_type": "stream",
     "text": [
      "Help on function banb in module __main__:\n",
      "\n",
      "banb(p, lp_solver=None)\n",
      "\n"
     ]
    }
   ],
   "source": [
    "help(banb)"
   ]
  },
  {
   "cell_type": "code",
   "execution_count": null,
   "metadata": {
    "collapsed": true
   },
   "outputs": [],
   "source": []
  }
 ],
 "metadata": {
  "kernelspec": {
   "display_name": "Python [default]",
   "language": "python",
   "name": "python3"
  },
  "language_info": {
   "codemirror_mode": {
    "name": "ipython",
    "version": 3
   },
   "file_extension": ".py",
   "mimetype": "text/x-python",
   "name": "python",
   "nbconvert_exporter": "python",
   "pygments_lexer": "ipython3",
   "version": "3.6.1"
  }
 },
 "nbformat": 4,
 "nbformat_minor": 2
}
