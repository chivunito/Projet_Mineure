{
 "cells": [
  {
   "cell_type": "markdown",
   "metadata": {},
   "source": [
    "## METHODE PLNE"
   ]
  },
  {
   "cell_type": "code",
   "execution_count": 1,
   "metadata": {
    "collapsed": true
   },
   "outputs": [],
   "source": [
    "from minilp import *\n",
    "import numpy as np"
   ]
  },
  {
   "cell_type": "code",
   "execution_count": 2,
   "metadata": {
    "collapsed": true
   },
   "outputs": [],
   "source": [
    "lp = problem('PLNE')\n",
    "\n",
    "#existence of a server i in a line j\n",
    "e = np.array(lp.integer_var_list(10,0,1)).reshape(2,5)\n",
    "\n",
    "#a server appears only one time\n",
    "lp.add_constraint(sum(e.T[0]) <= 1)\n",
    "lp.add_constraint(sum(e.T[1]) <= 1)\n",
    "lp.add_constraint(sum(e.T[2]) <= 1)\n",
    "lp.add_constraint(sum(e.T[3]) <= 1)\n",
    "lp.add_constraint(sum(e.T[4]) <= 1)\n",
    "\n",
    "#line j has limited space\n",
    "s = [4,5]\n",
    "z = [3,3,2,1,1]\n",
    "for j in range(2):\n",
    "    lp.add_constraint( sum(e[j]*z) <= s[j] )\n",
    "\n",
    "lp.set_objective( sum(sum(e*[10,10,5,5,6])), sense=max)"
   ]
  },
  {
   "cell_type": "code",
   "execution_count": 3,
   "metadata": {},
   "outputs": [
    {
     "name": "stdout",
     "output_type": "stream",
     "text": [
      "status = optimal, obj. = 33.5\n",
      "-------------\n",
      "0.6666666666666666\t0\t0\t1.0\t\n",
      "\n",
      "0.33333333333333337\t1.0\t0.5\t0\t\n",
      "\n",
      "-------------\n"
     ]
    }
   ],
   "source": [
    "res = lp.lp_solve()\n",
    "print(res)\n",
    "\n",
    "print(\"-------------\")\n",
    "for j in range(2):\n",
    "    for i in range(4):\n",
    "        print(res.get_value(e[j][i]),end=\"\\t\")\n",
    "    print(\"\\n\")\n",
    "print(\"-------------\")"
   ]
  },
  {
   "cell_type": "code",
   "execution_count": 4,
   "metadata": {
    "collapsed": true
   },
   "outputs": [],
   "source": [
    "import datetime as dt\n",
    "import math\n",
    "import numpy as np\n",
    "\n",
    "from minilp import *\n",
    "import minilp.result\n",
    "\n",
    "def get_first_non_integral(p, s):\n",
    "    \"\"\" Given a problem p and a result s, returns the first integer variables\n",
    "    that has a fractional value in s, or None if no such variable was found. \"\"\"\n",
    "    for v in p.variables:\n",
    "        if v.category == int:\n",
    "            if abs(round(s.get_value(v)) - s.get_value(v)) > 1e-6:\n",
    "                return v\n",
    "    return None\n",
    "\n",
    "def banb(p, lp_solver=None):\n",
    "    if lp_solver is None:\n",
    "        lp_solver = solvers.get_default_solver()\n",
    "    def cmp(l, r):\n",
    "        if np.isnan(r.objective):\n",
    "            return True\n",
    "        if p.sense == min:\n",
    "            return l.objective < r.objective\n",
    "        return l.objective > r.objective\n",
    "\n",
    "    res = minilp.result.result()\n",
    "    #res = p.lp_solve(lp_solver)\n",
    "    nodes = [[]] # nodes = list of constraints\n",
    "    cnt = 0\n",
    "    \n",
    "    print('B&B using {} to solve linear relaxation'.format(lp_solver.__class__.__name__))\n",
    "    \n",
    "    while nodes:\n",
    "        if cnt % 10 == 0:\n",
    "            print('{} {:5d} {:5d} {:9g}'.format(dt.datetime.now().strftime('%T'), cnt, \n",
    "                                                len(nodes), res.objective))\n",
    "        cnt += 1\n",
    "        cns = nodes.pop()\n",
    "        cs = p.add_constraints(cns)\n",
    "        s = p.lp_solve(lp_solver)\n",
    "        p.del_constraints(cs)\n",
    "        if s:\n",
    "            fni = get_first_non_integral(p, s)\n",
    "            if fni is None: # integral solution\n",
    "                if cmp(s, res):\n",
    "                    res = s\n",
    "                    print('{} {:5d} {:5d} {:9g}*'.format(dt.datetime.now().strftime('%T'), cnt, \n",
    "                                                         len(nodes), res.objective))\n",
    "            elif cmp(s, res):\n",
    "                fl = math.floor(s.get_value(fni))\n",
    "                nodes.append(cns + [fni <= fl])\n",
    "                nodes.append(cns + [fni >= fl + 1])\n",
    "    return res"
   ]
  },
  {
   "cell_type": "code",
   "execution_count": 5,
   "metadata": {},
   "outputs": [
    {
     "name": "stdout",
     "output_type": "stream",
     "text": [
      "B&B using docplex to solve linear relaxation\n",
      "16:58:18     0     1       nan\n",
      "16:58:19     8     3        31*\n",
      "16:58:19    10     1        31\n",
      "16:58:19    20     3        31\n",
      "status = optimal, obj. = 31.0\n"
     ]
    }
   ],
   "source": [
    "result=banb(lp)\n",
    "print(result)"
   ]
  },
  {
   "cell_type": "code",
   "execution_count": 18,
   "metadata": {},
   "outputs": [
    {
     "name": "stdout",
     "output_type": "stream",
     "text": [
      "[7, 8, 8, 8]\n"
     ]
    },
    {
     "data": {
      "text/plain": [
       "[[3, 10],\n",
       " [3, 10],\n",
       " [2, 5],\n",
       " [1, 5],\n",
       " [1, 1],\n",
       " [4, 50],\n",
       " [4, 50],\n",
       " [8, 100],\n",
       " [8, 100],\n",
       " [9, 100]]"
      ]
     },
     "execution_count": 18,
     "metadata": {},
     "output_type": "execute_result"
    }
   ],
   "source": [
    "from Multiple_knapsack import Multiple_knapsack\n",
    "\n",
    "pb = Multiple_knapsack(\"Sources_Files/dc2.in\")\n",
    "a = pb.servers\n",
    "pb.fileToProblem()\n",
    "s = pb.flat()\n",
    "print(s)\n",
    "a\n"
   ]
  },
  {
   "cell_type": "code",
   "execution_count": 19,
   "metadata": {},
   "outputs": [
    {
     "name": "stdout",
     "output_type": "stream",
     "text": [
      "[7, 8, 8, 8]\n"
     ]
    }
   ],
   "source": [
    "c = []\n",
    "z = []\n",
    "servers = pb.servers\n",
    "nb_servers = len(servers)\n",
    "nb_sacs = len(s)\n",
    "for server in servers:\n",
    "    z.append(server[0])\n",
    "    c.append(server[1])\n",
    "print(s)"
   ]
  },
  {
   "cell_type": "code",
   "execution_count": 20,
   "metadata": {
    "collapsed": true
   },
   "outputs": [],
   "source": [
    "lp = problem('PLNE')\n",
    "\n",
    "#existence of a server i in a line j\n",
    "e = np.array(lp.integer_var_list(nb_sacs*nb_servers,0,1)).reshape(nb_sacs,nb_servers)\n",
    "\n",
    "#a server appears only one time\n",
    "for i in range(nb_servers):\n",
    "    lp.add_constraint(sum(e.T[j]) <= 1)\n",
    "\n",
    "\n",
    "for j in range(2):\n",
    "    lp.add_constraint( sum(e[j]*z) <= s[j] )\n",
    "\n",
    "lp.set_objective( sum(sum(e*c)), sense=max)"
   ]
  },
  {
   "cell_type": "code",
   "execution_count": 21,
   "metadata": {},
   "outputs": [
    {
     "name": "stdout",
     "output_type": "stream",
     "text": [
      "B&B using docplex to solve linear relaxation\n",
      "17:04:38     0     1       nan\n",
      "17:04:38    10     3       nan\n",
      "17:04:38    11     2      1012*\n",
      "status = optimal, obj. = 1012.0\n"
     ]
    }
   ],
   "source": [
    "result=banb(lp)\n",
    "print(result)"
   ]
  },
  {
   "cell_type": "code",
   "execution_count": 23,
   "metadata": {},
   "outputs": [
    {
     "data": {
      "text/plain": [
       "_x12"
      ]
     },
     "execution_count": 23,
     "metadata": {},
     "output_type": "execute_result"
    }
   ],
   "source": [
    "e[1][2]"
   ]
  },
  {
   "cell_type": "code",
   "execution_count": null,
   "metadata": {
    "collapsed": true
   },
   "outputs": [],
   "source": []
  }
 ],
 "metadata": {
  "kernelspec": {
   "display_name": "Python [default]",
   "language": "python",
   "name": "python3"
  },
  "language_info": {
   "codemirror_mode": {
    "name": "ipython",
    "version": 3
   },
   "file_extension": ".py",
   "mimetype": "text/x-python",
   "name": "python",
   "nbconvert_exporter": "python",
   "pygments_lexer": "ipython3",
   "version": "3.6.1"
  }
 },
 "nbformat": 4,
 "nbformat_minor": 2
}
