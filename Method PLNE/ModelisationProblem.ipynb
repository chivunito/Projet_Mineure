{
 "cells": [
  {
   "cell_type": "code",
   "execution_count": 8,
   "metadata": {},
   "outputs": [
    {
     "name": "stdout",
     "output_type": "stream",
     "text": [
      "[[3, 10], [3, 10], [2, 5], [1, 5], [1, 1]]\n",
      "State.EMPTY\n",
      "{(0, 1): [3, 10]}\n",
      "[[3, 10], [2, 5], [1, 5], [1, 1]]\n"
     ]
    },
    {
     "data": {
      "image/png": "[encoded data removed]",
      "text/plain": [
       "<matplotlib.figure.Figure at 0x7f5440ad5780>"
      ]
     },
     "metadata": {},
     "output_type": "display_data"
    },
    {
     "name": "stdout",
     "output_type": "stream",
     "text": [
      "Multiple_knapsack_Problem (2racks,5slots)\n",
      "Puissance totale 10, serveurs placés : 1\n",
      "   (0, 1): size 3 puissance : 10\n"
     ]
    }
   ],
   "source": [
    "from Multiple_knapsack import Multiple_knapsack\n",
    "\n",
    "# Build the Mutltiple_Knapsack problem according to a source file ( given a filePath )\n",
    "problem = Multiple_knapsack(\"Sources_Files/dcEasy.in\")\n",
    "\n",
    "# Retrieving server List ( remaining one to place on the matrix )\n",
    "print(problem.servers)\n",
    "\n",
    "# Accessing the Matrix\n",
    "# print(problem.matrix.shape)\n",
    "# print(problem.matrix[0])  #  Print first line\n",
    "# print(problem.matrix[0, 0])  #  Print first case\n",
    "\n",
    "# Return the state given the coordinate     EMPTY = 0    SERVER = 1    UNAVAILABLE = -1\n",
    "print(problem.getState(1, 0))\n",
    "\n",
    "# Plot the game\n",
    "# problem.plot()\n",
    "\n",
    "# Place a server on the matrix\n",
    "origin=(0,1)\n",
    "problem.placeServer(origin,problem.servers[0])\n",
    "# Now we can print the servers on the racks :\n",
    "print(problem.placedServers)\n",
    "# the remaining one are :\n",
    "print(problem.servers)\n",
    "\n",
    "problem.plot()\n",
    "\n",
    "# Summary on the problem : \n",
    "print(problem)\n",
    "\n"
   ]
  },
  {
   "cell_type": "code",
   "execution_count": 9,
   "metadata": {},
   "outputs": [
    {
     "name": "stdout",
     "output_type": "stream",
     "text": [
      "[[3, 10], [2, 5], [1, 5], [1, 1]]\n"
     ]
    }
   ],
   "source": [
    "print(problem.servers)"
   ]
  },
  {
   "cell_type": "code",
   "execution_count": 10,
   "metadata": {},
   "outputs": [
    {
     "data": {
      "image/png": "[encoded data removed]",
      "text/plain": [
       "<matplotlib.figure.Figure at 0x7f5440a9d208>"
      ]
     },
     "metadata": {},
     "output_type": "display_data"
    }
   ],
   "source": [
    "problem.plot()"
   ]
  },
  {
   "cell_type": "code",
   "execution_count": null,
   "metadata": {
    "collapsed": true
   },
   "outputs": [],
   "source": []
  }
 ],
 "metadata": {
  "kernelspec": {
   "display_name": "Python [default]",
   "language": "python",
   "name": "python3"
  },
  "language_info": {
   "codemirror_mode": {
    "name": "ipython",
    "version": 3
   },
   "file_extension": ".py",
   "mimetype": "text/x-python",
   "name": "python",
   "nbconvert_exporter": "python",
   "pygments_lexer": "ipython3",
   "version": "3.6.1"
  }
 },
 "nbformat": 4,
 "nbformat_minor": 2
}
