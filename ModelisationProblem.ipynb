{
 "cells": [
  {
   "cell_type": "code",
   "execution_count": 2,
   "metadata": {},
   "outputs": [
    {
     "name": "stdout",
     "output_type": "stream",
     "text": [
      "[[3, 10], [3, 10], [2, 5], [1, 5], [1, 1]]\nState.EMPTY\n{(0, 1): [3, 10]}\n[[3, 10], [2, 5], [1, 5], [1, 1]]\n"
     ]
    },
    {
     "data": {
      "image/png": "[encoded data removed]",
      "text/plain": [
       "<matplotlib.figure.Figure at 0x7ff071ecd3c8>"
      ]
     },
     "metadata": {},
     "output_type": "display_data"
    },
    {
     "name": "stdout",
     "output_type": "stream",
     "text": [
      "Multiple_knapsack_Problem (2racks,5slots)\nPuissance totale 10, serveurs placés : 1\n   (0, 1): size 3 puissance : 10\n"
     ]
    }
   ],
   "source": [
    "from Multiple_knapsack import Multiple_knapsack\n",
    "\n",
    "# Build the Mutltiple_Knapsack problem according to a source file ( given a filePath )\n",
    "problem = Multiple_knapsack(\"Sources_Files/dcEasy.in\")\n",
    "\n",
    "# Retrieving server List ( remaining one to place on the matrix )\n",
    "print(problem.servers)\n",
    "\n",
    "# Accessing the Matrix\n",
    "# print(problem.matrix.shape)\n",
    "# print(problem.matrix[0])  #  Print first line\n",
    "# print(problem.matrix[0, 0])  #  Print first case\n",
    "\n",
    "# Return the state given the coordinate     EMPTY = 0    SERVER = 1    UNAVAILABLE = -1\n",
    "print(problem.getState(1, 0))\n",
    "\n",
    "# Plot the game\n",
    "# problem.plot()\n",
    "\n",
    "# Place a server on the matrix\n",
    "origin=(0,1)\n",
    "problem.placeServer(origin,problem.servers[0])\n",
    "# Now we can print the servers on the racks :\n",
    "print(problem.placedServers)\n",
    "# the remaining one are :\n",
    "print(problem.servers)\n",
    "\n",
    "problem.plot()\n",
    "\n",
    "# Summary on the problem : \n",
    "print(problem)\n",
    "\n"
   ]
  },
  {
   "cell_type": "code",
   "execution_count": 5,
   "metadata": {
    "collapsed": true
   },
   "outputs": [
    {
     "data": {
      "image/png": "[encoded data removed]",
      "text/plain": [
       "<matplotlib.figure.Figure at 0x7ff063e931d0>"
      ]
     },
     "metadata": {},
     "output_type": "display_data"
    },
    {
     "name": "stdout",
     "output_type": "stream",
     "text": [
      "[[2, 28], [5, 55], [2, 40], [3, 18], [1, 6], [4, 68], [3, 18], [2, 40], [3, 60], [5, 25], [4, 60], [3, 27], [4, 24], [3, 36], [5, 95], [2, 26], [1, 19], [5, 45], [4, 56], [1, 17], [3, 51], [3, 15], [2, 10], [5, 95], [5, 45], [1, 19], [5, 30], [3, 18], [4, 68], [1, 12], [3, 27], [5, 55], [2, 26], [4, 32], [2, 40], [4, 48], [3, 18], [2, 20], [3, 24], [2, 12], [4, 32], [5, 90], [1, 8], [4, 32], [1, 19], [3, 36], [4, 68], [1, 6], [3, 33], [3, 48], [4, 80], [1, 11], [2, 36], [2, 16], [3, 33], [2, 16], [5, 60], [5, 65], [1, 20], [5, 100], [5, 90], [1, 12], [2, 22], [1, 11], [5, 45], [4, 48], [3, 60], [5, 65], [4, 28], [2, 40], [3, 39], [4, 20], [3, 39], [5, 35], [5, 30], [1, 14], [4, 32], [1, 19], [2, 28], [4, 44], [3, 39], [5, 40], [4, 32], [2, 30], [2, 20], [4, 24], [3, 60], [5, 30], [2, 18], [5, 95], [5, 50], [1, 18], [4, 56], [5, 75], [1, 18], [2, 30], [5, 35], [1, 6], [3, 27], [4, 64], [2, 30], [2, 24], [5, 90], [1, 11], [2, 10], [4, 60], [2, 32], [3, 33], [1, 6], [5, 95], [3, 54], [3, 21], [1, 9], [5, 85], [5, 95], [2, 16], [1, 17], [5, 55], [4, 28], [5, 90], [5, 85], [5, 25], [4, 40], [5, 85], [5, 85], [2, 34], [1, 18], [5, 40], [5, 60], [2, 34], [2, 10], [1, 10], [5, 100], [2, 30], [2, 40], [3, 60], [1, 20], [1, 20], [2, 12], [3, 48], [2, 28], [3, 33], [3, 27], [4, 20], [5, 65], [4, 64], [4, 40], [1, 15], [2, 20], [5, 80], [2, 18], [3, 33], [2, 14], [3, 60], [4, 76], [4, 36], [3, 15], [2, 22], [3, 45], [3, 36], [2, 24], [5, 85], [1, 6], [3, 45], [2, 36], [4, 60], [2, 16], [1, 8], [3, 54], [1, 11], [4, 32], [4, 48], [2, 30], [1, 17], [4, 24], [3, 21], [5, 65], [1, 8], [5, 60], [5, 75], [5, 70], [5, 95], [4, 64], [3, 54], [3, 57], [4, 48], [2, 16], [4, 68], [3, 45], [2, 12], [2, 18], [2, 26], [1, 8], [4, 64], [1, 11], [3, 33], [2, 22], [5, 70], [4, 72], [4, 44], [1, 10], [4, 72], [5, 55], [4, 52], [4, 32], [2, 22], [1, 10], [4, 44], [1, 12], [1, 14], [1, 11], [3, 15], [4, 28], [3, 15], [2, 16], [2, 34], [2, 34], [5, 45], [1, 5], [3, 60], [2, 30], [4, 60], [4, 80], [1, 5], [1, 7], [4, 56], [2, 32], [4, 28], [4, 64], [1, 18], [5, 30], [1, 9], [4, 80], [2, 32], [1, 16], [4, 24], [4, 72], [4, 24], [5, 85], [2, 22], [2, 26], [2, 36], [5, 30], [5, 75], [5, 80], [3, 48], [5, 45], [5, 65], [3, 33], [4, 36], [5, 90], [1, 19], [2, 24], [4, 44], [1, 18], [1, 8], [4, 40], [5, 80], [2, 10], [5, 30], [4, 48], [4, 64], [4, 48], [4, 24], [2, 32], [2, 28], [3, 39], [3, 48], [2, 32], [2, 18], [1, 8], [1, 13], [4, 28], [2, 24], [4, 80], [3, 27], [1, 8], [2, 14], [1, 13], [2, 40], [3, 48], [1, 18], [3, 54], [3, 36], [3, 21], [1, 20], [3, 54], [3, 18], [4, 20], [1, 14], [2, 40], [1, 17], [4, 68], [2, 26], [3, 36], [5, 100], [2, 28], [4, 64], [5, 40], [2, 30], [1, 7], [1, 5], [3, 42], [2, 16], [4, 64], [3, 45], [5, 85], [4, 60], [5, 55], [3, 45], [5, 90], [1, 7], [2, 32], [3, 27], [1, 16], [4, 80], [3, 36], [1, 5], [3, 30], [2, 12], [5, 90], [3, 60], [5, 75], [2, 10], [4, 48], [4, 76], [1, 14], [4, 48], [1, 10], [2, 30], [5, 50], [4, 36], [5, 90], [3, 36], [2, 20], [5, 55], [3, 60], [4, 52], [3, 24], [2, 34], [4, 68], [2, 26], [5, 60], [4, 24], [5, 70], [2, 14], [3, 39], [1, 20], [5, 60], [1, 18], [3, 48], [3, 27], [5, 100], [2, 26], [2, 38], [3, 57], [5, 45], [4, 44], [5, 65], [5, 45], [2, 28], [5, 60], [1, 13], [2, 26], [3, 36], [2, 16], [4, 56], [2, 34], [1, 16], [4, 68], [2, 30], [5, 100], [3, 15], [3, 42], [5, 90], [3, 39], [3, 48], [3, 45], [1, 12], [5, 50], [4, 60], [5, 90], [5, 55], [2, 32], [4, 72], [1, 6], [4, 76], [5, 80], [3, 18], [4, 72], [3, 48], [5, 25], [4, 36], [2, 14], [3, 42], [4, 28], [1, 18], [4, 32], [5, 35], [3, 27], [2, 10], [5, 95], [4, 28], [3, 30], [3, 45], [3, 27], [5, 40], [2, 24], [2, 28], [3, 60], [2, 40], [4, 36], [3, 45], [4, 20], [4, 48], [5, 45], [4, 56], [2, 30], [4, 60], [4, 60], [5, 75], [5, 75], [2, 24], [3, 48], [1, 9], [4, 28], [1, 13], [5, 65], [5, 90], [2, 36], [3, 51], [4, 40], [1, 20], [1, 20], [5, 80], [5, 100], [5, 50], [4, 20], [3, 36], [4, 60], [3, 54], [5, 30], [2, 10], [5, 65], [5, 40], [1, 18], [5, 45], [3, 21], [5, 45], [3, 18], [5, 35], [3, 45], [4, 80], [3, 48], [1, 11], [1, 12], [3, 60], [1, 10], [3, 60], [5, 30], [4, 52], [5, 50], [2, 16], [1, 18], [3, 45], [4, 56], [1, 17], [2, 14], [3, 18], [4, 32], [2, 36], [2, 14], [5, 25], [5, 35], [1, 9], [1, 15], [1, 5], [4, 32], [2, 14], [1, 16], [3, 48], [3, 51], [3, 18], [3, 60], [1, 17], [5, 65], [3, 60], [1, 12], [3, 45], [3, 57], [1, 6], [4, 24], [2, 30], [3, 30], [5, 65], [3, 42], [1, 16], [5, 75], [4, 64], [2, 24], [2, 20], [3, 33], [1, 11], [4, 40], [1, 19], [1, 18], [1, 6], [4, 68], [3, 42], [3, 30], [1, 10], [4, 68], [5, 80], [5, 70], [2, 28], [2, 30], [2, 12], [5, 50], [4, 56], [5, 90], [5, 90], [4, 60], [1, 19], [5, 45], [1, 16], [2, 20], [1, 18], [3, 33], [1, 15], [1, 16], [2, 22], [2, 20], [4, 68], [3, 18], [1, 7], [4, 60], [2, 30], [3, 36], [2, 34], [1, 11], [2, 30], [3, 45], [1, 11], [3, 15], [2, 16], [1, 9], [2, 10], [4, 28], [2, 32], [3, 54], [5, 30], [5, 25], [1, 19], [5, 70], [3, 48], [3, 18], [1, 10], [5, 70], [5, 95], [1, 18], [2, 28], [3, 33], [2, 20], [2, 14], [3, 18], [3, 57], [2, 32], [5, 90], [2, 14], [1, 14], [4, 60], [1, 17], [3, 51], [4, 48], [5, 70], [4, 56], [5, 75], [1, 6], [3, 27], [2, 10], [3, 27], [3, 15], [5, 30], [5, 90], [4, 52], [3, 39], [4, 76], [3, 51], [4, 40], [3, 21], [1, 6], [5, 50], [4, 52], [1, 8], [3, 36], [3, 21], [2, 18], [3, 30], [3, 51], [4, 24], [1, 15], [2, 32], [4, 76], [5, 50], [3, 21], [2, 40], [4, 44], [3, 60], [2, 22], [4, 72], [4, 72], [4, 60], [3, 45], [3, 30], [2, 14], [2, 40], [3, 24], [1, 6], [5, 30], [4, 72], [5, 25], [2, 34], [1, 11], [1, 18], [4, 68]]\n"
     ]
    }
   ],
   "source": [
    "problem = Multiple_knapsack(\"Sources_Files/dc.in\")\n",
    "problem.plot()"
   ]
  },
  {
   "cell_type": "code",
   "execution_count": null,
   "metadata": {
    "collapsed": true
   },
   "outputs": [],
   "source": []
  },
  {
   "cell_type": "code",
   "execution_count": null,
   "metadata": {
    "collapsed": true
   },
   "outputs": [],
   "source": []
  }
 ],
 "metadata": {
  "kernelspec": {
   "display_name": "Python 3",
   "language": "python",
   "name": "python3"
  },
  "language_info": {
   "codemirror_mode": {
    "name": "ipython",
    "version": 3
   },
   "file_extension": ".py",
   "mimetype": "text/x-python",
   "name": "python",
   "nbconvert_exporter": "python",
   "pygments_lexer": "ipython3",
   "version": "3.6.3"
  }
 },
 "nbformat": 4,
 "nbformat_minor": 2
}
