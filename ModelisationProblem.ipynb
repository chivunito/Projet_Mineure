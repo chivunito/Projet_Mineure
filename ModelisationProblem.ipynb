{
 "cells": [
  {
   "cell_type": "code",
   "execution_count": null,
   "metadata": {},
   "outputs": [
    {
     "name": "stdout",
     "output_type": "stream",
     "text": [
      "[[3, 10], [3, 10], [2, 5], [1, 5], [1, 1]]\n[-1.  0.  0.  0.  0.]\n-1.0\nFalse\n"
     ]
    },
    {
     "data": {
      "image/png": "[encoded data removed]",
      "text/plain": [
       "<matplotlib.figure.Figure at 0x7ff05c7bac18>"
      ]
     },
     "metadata": {},
     "output_type": "display_data"
    }
   ],
   "source": [
    "from Multiple_knapsack import Multiple_knapsack\n",
    "\n",
    "if __name__==\"__main__\":\n",
    "    # Build the Mutltiple_Knapsack problem according to a source file ( given a filePath )\n",
    "    problem=Multiple_knapsack(\"Sources_Files/dcEasy.in\")\n",
    "    \n",
    "    # Retrieving server List \n",
    "    print(problem.servers)\n",
    "    \n",
    "    # Accessing the Matrix \n",
    "    print(problem.matrix[0]) # Print first line\n",
    "    print(problem.matrix[0,0]) # Print first case\n",
    "    \n",
    "    print(problem.isAvailable(0,0)) \n",
    "    \n",
    "    # Plot the game\n",
    "    problem.plot()"
   ]
  },
  {
   "cell_type": "code",
   "execution_count": null,
   "metadata": {
    "collapsed": true
   },
   "outputs": [],
   "source": []
  },
  {
   "cell_type": "code",
   "execution_count": null,
   "metadata": {
    "collapsed": true
   },
   "outputs": [],
   "source": []
  },
  {
   "cell_type": "code",
   "execution_count": null,
   "metadata": {
    "collapsed": true
   },
   "outputs": [],
   "source": []
  }
 ],
 "metadata": {
  "kernelspec": {
   "display_name": "Python 3",
   "language": "python",
   "name": "python3"
  },
  "language_info": {
   "codemirror_mode": {
    "name": "ipython",
    "version": 3
   },
   "file_extension": ".py",
   "mimetype": "text/x-python",
   "name": "python",
   "nbconvert_exporter": "python",
   "pygments_lexer": "ipython3",
   "version": "3.6.3"
  }
 },
 "nbformat": 4,
 "nbformat_minor": 2
}
