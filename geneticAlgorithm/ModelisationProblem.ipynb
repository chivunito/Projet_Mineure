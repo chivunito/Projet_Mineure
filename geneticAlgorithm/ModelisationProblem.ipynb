{
 "cells": [
  {
   "cell_type": "code",
   "execution_count": 6,
   "metadata": {},
   "outputs": [],
   "source": [
    "from Multiple_knapsack import Multiple_knapsack\n",
    "import numpy as np\n",
    "\n",
    "# # Build the Mutltiple_Knapsack problem according to a source file ( given a filePath )\n",
    "# problem = Multiple_knapsack(\"Sources_Files/dc.in\")\n",
    "# # problem = Multiple_knapsack(\"Sources_Files/dcEasy.in\")\n",
    "# knapSack = problem.flat()\n",
    "# servers=np.array(problem.servers)\n",
    "# print(servers)\n",
    "# print(knapSack)\n",
    "# size,puissance=servers[:,0],servers[:,1]"
   ]
  },
  {
   "cell_type": "code",
   "execution_count": 16,
   "metadata": {
    "collapsed": false
   },
   "outputs": [],
   "source": [
    ""
   ]
  },
  {
   "cell_type": "code",
   "execution_count": 23,
   "metadata": {},
   "outputs": [],
   "source": [
    "# Testing \n",
    "from deap import base, creator, tools, algorithms\n",
    "\n",
    "def createToolbox(knapSacks,servers):\n",
    "    creator.create(\"FitnessMax\", base.Fitness, weights=(1.0,))\n",
    "    creator.create(\"Individual\", list, fitness=creator.FitnessMax)\n",
    "    toolbox = base.Toolbox()\n",
    "    \n",
    "    toolbox.register(\"attr_bool\", generateRandom, 0, len(knapSacks)-1,0.05)\n",
    "    toolbox.register(\"individual\", tools.initRepeat, creator.Individual, toolbox.attr_bool, n=len(servers))\n",
    "    toolbox.register(\"population\", tools.initRepeat, list, toolbox.individual)\n",
    "    toolbox.register(\"evaluate\", evaluate,servers,knapSacks)\n",
    "    # toolbox.register(\"mate\", tools.cxTwoPoint)\n",
    "    toolbox.register(\"mate\", validCrossover,servers=servers,knapSackList=knapSacks)\n",
    "    # toolbox.register(\"mutate\", tools.mutFlipBit, indpb=0.1)\n",
    "    # toolbox.register(\"mutate\", mutNewKnapSack,knapSackLen=len(knapSack)-1,prbFlip=0.2)\n",
    "    toolbox.register(\"mutate\", mutNewKnapSack,knapSackLen=len(knapSacks)-1,prbFlip=0.5)\n",
    "    toolbox.register(\"select\", tools.selTournament, tournsize=3)\n",
    "    return toolbox\n",
    "\n"
   ]
  },
  {
   "cell_type": "code",
   "execution_count": 24,
   "metadata": {
    "collapsed": false
   },
   "outputs": [
    {
     "name": "stdout",
     "output_type": "stream",
     "text": [
      "[[1, 5], [3, 10], [3, 10], [2, 5], [1, 1]]\n[4, 5]\n"
     ]
    },
    {
     "name": "stderr",
     "output_type": "stream",
     "text": [
      "/home/chivunito/anaconda3/lib/python3.6/site-packages/deap/creator.py:141: RuntimeWarning: A class named 'FitnessMax' has already been created and it will be overwritten. Consider deleting previous creation of that class or rename it.\n  RuntimeWarning)\n/home/chivunito/anaconda3/lib/python3.6/site-packages/deap/creator.py:141: RuntimeWarning: A class named 'Individual' has already been created and it will be overwritten. Consider deleting previous creation of that class or rename it.\n  RuntimeWarning)\n"
     ]
    }
   ],
   "source": [
    "# Testing\n",
    "# problem = Multiple_knapsack(\"Sources_Files/dc.in\")\n",
    "problem = Multiple_knapsack(\"Sources_Files/dcEasy.in\")\n",
    "knapSacks=problem.flat()\n",
    "servers=problem.servers\n",
    "# Sort Ratio décroissant\n",
    "servers=sortServers(servers,lambdaFunction=lambda x:-x[1]/x[0])\n",
    "print(servers)\n",
    "print(knapSacks)\n",
    "toolbox=createToolbox(knapSacks,servers)\n",
    "\n",
    "#Algorithm\n",
    "pop = toolbox.population(n=30)\n",
    "pop, logbook = algorithms.eaSimple(pop, toolbox, cxpb=0.5, mutpb=0.5, ngen=40,verbose=False)\n",
    "best=tools.selBest(pop,k=1)\n",
    "# print(best)\n",
    "# print(toolbox.evaluate(best))"
   ]
  },
  {
   "cell_type": "code",
   "execution_count": null,
   "metadata": {
    "collapsed": true
   },
   "outputs": [],
   "source": []
  }
 ],
 "metadata": {
  "kernelspec": {
   "display_name": "Python 3",
   "language": "python",
   "name": "python3"
  },
  "language_info": {
   "codemirror_mode": {
    "name": "ipython",
    "version": 3
   },
   "file_extension": ".py",
   "mimetype": "text/x-python",
   "name": "python",
   "nbconvert_exporter": "python",
   "pygments_lexer": "ipython3",
   "version": "3.6.3"
  }
 },
 "nbformat": 4,
 "nbformat_minor": 2
}
