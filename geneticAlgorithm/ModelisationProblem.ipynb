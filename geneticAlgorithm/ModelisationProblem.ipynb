{
 "cells": [
  {
   "cell_type": "markdown",
   "metadata": {},
   "source": [
    "# CrossOver & Mutation Probability"
   ]
  },
  {
   "cell_type": "code",
   "execution_count": 1,
   "metadata": {},
   "outputs": [
    {
     "name": "stderr",
     "output_type": "stream",
     "text": [
      "/home/chivunito/anaconda3/lib/python3.6/site-packages/deap/tools/_hypervolume/pyhv.py:33: ImportWarning: Falling back to the python version of hypervolume module. Expect this to be very slow.\n  \"module. Expect this to be very slow.\", ImportWarning)\n"
     ]
    },
    {
     "name": "stderr",
     "output_type": "stream",
     "text": [
      "/home/chivunito/anaconda3/lib/python3.6/importlib/_bootstrap.py:219: ImportWarning: can't resolve package from __spec__ or __package__, falling back on __name__ and __path__\n  return f(*args, **kwds)\n/home/chivunito/anaconda3/lib/python3.6/importlib/_bootstrap.py:219: ImportWarning: can't resolve package from __spec__ or __package__, falling back on __name__ and __path__\n  return f(*args, **kwds)\n"
     ]
    }
   ],
   "source": [
    "from geneticAlgorithm.Genetic import *\n",
    "problem = Multiple_knapsack(\"Sources_Files/test10x10.in\")\n",
    "knapsacks = problem.flat()\n",
    "servers = problem.servers"
   ]
  },
  {
   "cell_type": "code",
   "execution_count": 21,
   "metadata": {
    "collapsed": false
   },
   "outputs": [
    {
     "name": "stderr",
     "output_type": "stream",
     "text": [
      "/home/chivunito/anaconda3/lib/python3.6/site-packages/deap/creator.py:141: RuntimeWarning: A class named 'FitnessMax' has already been created and it will be overwritten. Consider deleting previous creation of that class or rename it.\n  RuntimeWarning)\n/home/chivunito/anaconda3/lib/python3.6/site-packages/deap/creator.py:141: RuntimeWarning: A class named 'Individual' has already been created and it will be overwritten. Consider deleting previous creation of that class or rename it.\n  RuntimeWarning)\n"
     ]
    },
    {
     "name": "stdout",
     "output_type": "stream",
     "text": [
      "0.4 0.4 399.0\n"
     ]
    },
    {
     "name": "stdout",
     "output_type": "stream",
     "text": [
      "0.4 0.45 426.0\n"
     ]
    },
    {
     "name": "stdout",
     "output_type": "stream",
     "text": [
      "0.4 0.5 413.0\n"
     ]
    },
    {
     "name": "stdout",
     "output_type": "stream",
     "text": [
      "0.4 0.55 410.0\n"
     ]
    },
    {
     "name": "stdout",
     "output_type": "stream",
     "text": [
      "0.4 0.6 413.0\n"
     ]
    },
    {
     "name": "stdout",
     "output_type": "stream",
     "text": [
      "0.45 0.4 419.0\n"
     ]
    },
    {
     "name": "stdout",
     "output_type": "stream",
     "text": [
      "0.45 0.45 403.0\n"
     ]
    },
    {
     "name": "stdout",
     "output_type": "stream",
     "text": [
      "0.45 0.5 409.0\n"
     ]
    },
    {
     "name": "stdout",
     "output_type": "stream",
     "text": [
      "0.45 0.55 417.0\n"
     ]
    },
    {
     "name": "stdout",
     "output_type": "stream",
     "text": [
      "0.45 0.6 412.0\n"
     ]
    },
    {
     "name": "stdout",
     "output_type": "stream",
     "text": [
      "0.5 0.4 398.0\n"
     ]
    },
    {
     "name": "stdout",
     "output_type": "stream",
     "text": [
      "0.5 0.45 407.0\n"
     ]
    },
    {
     "name": "stdout",
     "output_type": "stream",
     "text": [
      "0.5 0.5 425.0\n"
     ]
    },
    {
     "name": "stdout",
     "output_type": "stream",
     "text": [
      "0.5 0.55 393.0\n"
     ]
    },
    {
     "name": "stdout",
     "output_type": "stream",
     "text": [
      "0.5 0.6 417.0\n"
     ]
    },
    {
     "name": "stdout",
     "output_type": "stream",
     "text": [
      "0.55 0.4 416.0\n"
     ]
    },
    {
     "name": "stdout",
     "output_type": "stream",
     "text": [
      "0.55 0.45 427.0\n"
     ]
    },
    {
     "name": "stdout",
     "output_type": "stream",
     "text": [
      "0.55 0.5 402.0\n"
     ]
    },
    {
     "name": "stdout",
     "output_type": "stream",
     "text": [
      "0.55 0.55 413.0\n"
     ]
    },
    {
     "name": "stdout",
     "output_type": "stream",
     "text": [
      "0.55 0.6 399.0\n"
     ]
    },
    {
     "name": "stdout",
     "output_type": "stream",
     "text": [
      "0.6 0.4 410.0\n"
     ]
    },
    {
     "name": "stdout",
     "output_type": "stream",
     "text": [
      "0.6 0.45 402.0\n"
     ]
    },
    {
     "name": "stdout",
     "output_type": "stream",
     "text": [
      "0.6 0.5 402.0\n"
     ]
    },
    {
     "name": "stdout",
     "output_type": "stream",
     "text": [
      "0.6 0.55 416.0\n"
     ]
    },
    {
     "name": "stdout",
     "output_type": "stream",
     "text": [
      "0.6 0.6 396.0\n"
     ]
    }
   ],
   "source": [
    "\n",
    "# servers=sorted(servers,key=lambda x:-x[1])\n",
    "servers=sorted(problem.servers,key=lambda x:-x[1]/x[0])\n",
    "\n",
    "# print(\"Place disponible : \",problem.shape[0]*problem.shape[1]-len(problem.indispo))\n",
    "# \n",
    "popSize=100\n",
    "nGen=100\n",
    "crossOverDico={}\n",
    "# \n",
    "for cxpb in np.linspace(0.4,0.6,5):\n",
    "    subList=[]\n",
    "    for mutpb in np.linspace(0.4,0.6,5):\n",
    "        gen,maxList=scoreModel(servers,knapsacks,cxpb=cxpb,mutpb=mutpb,popSize=popSize,nGen=nGen)\n",
    "        bestInd=np.max(maxList)\n",
    "        print(cxpb,mutpb,bestInd)\n",
    "        subList.append((mutpb,bestInd))    \n",
    "    crossOverDico[cxpb]=subList"
   ]
  },
  {
   "cell_type": "code",
   "execution_count": 22,
   "metadata": {
    "collapsed": false
   },
   "outputs": [
    {
     "data": {
      "image/png": "[encoded data removed]",
      "text/plain": [
       "<matplotlib.figure.Figure at 0x7f926ca80358>"
      ]
     },
     "metadata": {},
     "output_type": "display_data"
    }
   ],
   "source": [
    "for cxpb,subList in crossOverDico.items():\n",
    "   subList=np.array(subList)\n",
    "   plt.plot(subList[:,0],subList[:,1], label=\"cxpb \"+str(round(cxpb,1)))\n",
    "plt.legend()\n",
    "plt.xlabel('Probabilité de Mutation')\n",
    "plt.ylabel('Meilleur individu')\n",
    "plt.savefig(\"tes.png\",dpi=800)\n",
    "plt.show()\n",
    "    "
   ]
  },
  {
   "cell_type": "markdown",
   "metadata": {},
   "source": [
    "# Différents sort sur les serveurs"
   ]
  },
  {
   "cell_type": "code",
   "execution_count": 2,
   "metadata": {},
   "outputs": [
    {
     "name": "stdout",
     "output_type": "stream",
     "text": [
      "gen\tnevals\tavg\tmin\tmax\n0  \t20    \t0  \t0  \t0  \n1  \t17    \t86.8\t0  \t221\n2  \t17    \t76.15\t0  \t240\n"
     ]
    },
    {
     "name": "stdout",
     "output_type": "stream",
     "text": [
      "3  \t20    \t93.15\t0  \t270\n4  \t15    \t134  \t0  \t285\n5  \t14    \t149.1\t0  \t281\n6  \t15    \t160.45\t0  \t298\n7  \t16    \t123.1 \t0  \t291\n"
     ]
    },
    {
     "name": "stdout",
     "output_type": "stream",
     "text": [
      "8  \t19    \t139.3 \t0  \t324\n9  \t16    \t131.15\t0  \t304\n10 \t16    \t125.4 \t0  \t304\n"
     ]
    },
    {
     "name": "stdout",
     "output_type": "stream",
     "text": [
      "11 \t18    \t130.7 \t0  \t326\n12 \t19    \t140.75\t0  \t342\n13 \t18    \t170.7 \t0  \t404\n"
     ]
    },
    {
     "name": "stdout",
     "output_type": "stream",
     "text": [
      "14 \t16    \t180.8 \t0  \t421\n15 \t17    \t189.6 \t0  \t395\n16 \t12    \t193.55\t0  \t416\n"
     ]
    },
    {
     "name": "stdout",
     "output_type": "stream",
     "text": [
      "17 \t17    \t197.65\t0  \t427\n18 \t14    \t144.55\t0  \t427\n19 \t14    \t138.45\t0  \t427\n20 \t13    \t121.1 \t0  \t427\n"
     ]
    },
    {
     "name": "stdout",
     "output_type": "stream",
     "text": [
      "21 \t13    \t172.1 \t0  \t446\n22 \t14    \t166.45\t0  \t446\n23 \t18    \t193.3 \t0  \t446\n"
     ]
    },
    {
     "name": "stdout",
     "output_type": "stream",
     "text": [
      "24 \t16    \t154.25\t0  \t446\n25 \t16    \t222.65\t0  \t453\n26 \t12    \t210.15\t0  \t464\n27 \t15    \t250   \t0  \t464\n"
     ]
    },
    {
     "name": "stdout",
     "output_type": "stream",
     "text": [
      "28 \t17    \t178.5 \t0  \t478\n29 \t15    \t123.1 \t0  \t448\n30 \t17    \t115.85\t0  \t450\n31 \t16    \t119.05\t0  \t437\n32 \t18    \t118.4 \t0  \t398\n"
     ]
    },
    {
     "name": "stdout",
     "output_type": "stream",
     "text": [
      "33 \t16    \t194.1 \t0  \t434\n34 \t15    \t185.45\t0  \t434\n35 \t18    \t157.85\t0  \t434\n36 \t16    \t174.75\t0  \t434\n37 \t16    \t189.45\t0  \t434\n38 \t18    \t167.5 \t0  \t434\n"
     ]
    },
    {
     "name": "stdout",
     "output_type": "stream",
     "text": [
      "39 \t15    \t206.75\t0  \t434\n40 \t17    \t234.95\t0  \t434\n41 \t15    \t250.45\t0  \t434\n42 \t18    \t167.5 \t0  \t446\n43 \t19    \t202.8 \t0  \t434\n44 \t17    \t218.65\t0  \t434\n45 \t17    \t237.55\t0  \t434\n"
     ]
    },
    {
     "name": "stdout",
     "output_type": "stream",
     "text": [
      "46 \t13    \t293.55\t0  \t434\n47 \t16    \t212.95\t0  \t434\n48 \t14    \t217   \t0  \t434\n49 \t12    \t217   \t0  \t434\n50 \t16    \t195.3 \t0  \t434\n51 \t16    \t217   \t0  \t434\n52 \t17    \t265.4 \t0  \t434"
     ]
    },
    {
     "name": "stdout",
     "output_type": "stream",
     "text": [
      "\n53 \t14    \t217   \t0  \t434\n54 \t15    \t150.5 \t0  \t434\n55 \t13    \t255.1 \t0  \t434\n56 \t17    \t257.35\t0  \t434\n57 \t14    \t217   \t0  \t434\n58 \t18    \t189.15\t0  \t434\n59 \t13    \t226.05\t0  \t434\n"
     ]
    },
    {
     "name": "stdout",
     "output_type": "stream",
     "text": [
      "60 \t18    \t151.3 \t0  \t434\n61 \t12    \t143.95\t0  \t434\n62 \t17    \t162.25\t0  \t451\n63 \t18    \t195.9 \t0  \t451\n64 \t17    \t160.55\t0  \t434\n65 \t17    \t172.4 \t0  \t434\n66 \t17    \t320.55\t0  \t455\n"
     ]
    },
    {
     "name": "stdout",
     "output_type": "stream",
     "text": [
      "67 \t14    \t193.75\t0  \t434\n68 \t16    \t220.3 \t0  \t434\n69 \t15    \t225.9 \t0  \t453\n70 \t15    \t141.7 \t0  \t434\n71 \t16    \t234.85\t0  \t434\n72 \t16    \t260.5 \t0  \t434\n"
     ]
    },
    {
     "name": "stdout",
     "output_type": "stream",
     "text": [
      "73 \t18    \t216.25\t0  \t450\n74 \t15    \t227.95\t0  \t450\n75 \t14    \t204.6 \t0  \t453\n76 \t17    \t159.1 \t0  \t450\n77 \t18    \t234.3 \t0  \t497\n78 \t16    \t201.25\t0  \t450\n79 \t17    \t222.5 \t0  \t464"
     ]
    },
    {
     "name": "stdout",
     "output_type": "stream",
     "text": [
      "\n80 \t16    \t227.4 \t0  \t464\n81 \t17    \t198.7 \t0  \t464\n82 \t16    \t201.7 \t0  \t464\n83 \t14    \t259.05\t0  \t503\n84 \t13    \t286.2 \t0  \t503\n85 \t20    \t268.6 \t0  \t503\n86 \t18    \t265.45\t0  \t526\n"
     ]
    },
    {
     "name": "stdout",
     "output_type": "stream",
     "text": [
      "87 \t17    \t275.55\t0  \t526\n88 \t17    \t224.65\t0  \t503\n89 \t12    \t258.65\t0  \t503\n90 \t10    \t326.95\t0  \t503\n91 \t17    \t293.55\t0  \t503\n92 \t18    \t169.15\t0  \t503\n93 \t16    \t236.3 \t0  \t503"
     ]
    },
    {
     "name": "stdout",
     "output_type": "stream",
     "text": [
      "\n94 \t15    \t197   \t0  \t503\n95 \t12    \t239.25\t0  \t521\n96 \t17    \t236.4 \t0  \t503\n97 \t14    \t337.15\t0  \t503\n98 \t20    \t201.2 \t0  \t503\n99 \t15    \t212.8 \t0  \t503\n"
     ]
    },
    {
     "name": "stdout",
     "output_type": "stream",
     "text": [
      "100\t15    \t314.7 \t0  \t503\n"
     ]
    },
    {
     "name": "stderr",
     "output_type": "stream",
     "text": [
      "/home/chivunito/anaconda3/lib/python3.6/site-packages/deap/creator.py:141: RuntimeWarning: A class named 'FitnessMax' has already been created and it will be overwritten. Consider deleting previous creation of that class or rename it.\n  RuntimeWarning)\n/home/chivunito/anaconda3/lib/python3.6/site-packages/deap/creator.py:141: RuntimeWarning: A class named 'Individual' has already been created and it will be overwritten. Consider deleting previous creation of that class or rename it.\n  RuntimeWarning)\n"
     ]
    }
   ],
   "source": [
    "mutpb=0.45\n",
    "cxpb=0.6\n",
    "popSize=20\n",
    "nGen=100\n",
    "\n",
    "resultDico={}\n",
    "problem = Multiple_knapsack(\"Sources_Files/test10x50.in\")\n",
    "knapsacks = problem.flat()\n",
    "servers = problem.servers\n",
    "\n",
    "# Not Sorted\n",
    "resultDico['Not Sorted']=scoreModel(servers,knapsacks,cxpb=cxpb,mutpb=mutpb,popSize=popSize,nGen=nGen,verbose=True)\n",
    "\n",
    "# par puissance\n",
    "servers=sorted(servers,key=lambda x:-x[1])\n",
    "resultDico['Puissance décroissante']=scoreModel(servers,knapsacks,cxpb=cxpb,mutpb=mutpb,popSize=popSize,nGen=nGen)\n",
    "servers=sorted(servers,key=lambda x:x[1])\n",
    "resultDico['Puissance croissante']=scoreModel(servers,knapsacks,cxpb=cxpb,mutpb=mutpb,popSize=popSize,nGen=nGen)\n",
    "\n",
    "# par ratio\n",
    "servers=sorted(problem.servers,key=lambda x:-x[1]/x[0])\n",
    "resultDico['Puissance/size']=scoreModel(servers,knapsacks,cxpb=cxpb,mutpb=mutpb,popSize=popSize,nGen=nGen)\n",
    "\n",
    "# par taille \n",
    "servers=sorted(problem.servers,key=lambda x:x[0])\n",
    "resultDico['size']=scoreModel(servers,knapsacks,cxpb=cxpb,mutpb=mutpb,popSize=popSize,nGen=nGen)"
   ]
  },
  {
   "cell_type": "code",
   "execution_count": 3,
   "metadata": {},
   "outputs": [
    {
     "name": "stdout",
     "output_type": "stream",
     "text": [
      "Not Sorted\nPuissance décroissante\nPuissance croissante\nPuissance/size\nsize"
     ]
    },
    {
     "name": "stdout",
     "output_type": "stream",
     "text": [
      "\n"
     ]
    },
    {
     "data": {
      "image/png": "[encoded data removed]",
      "text/plain": [
       "<matplotlib.figure.Figure at 0x7fc14e4040f0>"
      ]
     },
     "metadata": {},
     "output_type": "display_data"
    }
   ],
   "source": [
    "for result,(gen,maxList) in resultDico.items():\n",
    "    print(result)\n",
    "    plt.plot(gen,maxList,label=result)\n",
    "plt.legend()\n",
    "plt.title(\"Comparaison tri serveurs\")\n",
    "plt.xlabel('nb Generation')\n",
    "plt.savefig('test.png',dpi=800)\n",
    "plt.show()\n"
   ]
  },
  {
   "cell_type": "markdown",
   "metadata": {},
   "source": [
    "# Comparaison Type de mutation"
   ]
  },
  {
   "cell_type": "code",
   "execution_count": 3,
   "metadata": {},
   "outputs": [],
   "source": [
    "mutpb=0.45\n",
    "cxpb=0.6\n",
    "popSize=100\n",
    "nGen=100\n",
    "\n",
    "# Mutation normale\n",
    "resultDico={}\n",
    "problem = Multiple_knapsack(\"Sources_Files/test10x10.in\")\n",
    "knapsacks = problem.flat()\n",
    "servers = problem.servers\n",
    "servers=sorted(problem.servers,key=lambda x:-x[1]/x[0])\n",
    "\n",
    "resultDico['Mutation V2']=scoreModel(servers,knapsacks,cxpb=cxpb,mutpb=mutpb,popSize=popSize,nGen=nGen)\n"
   ]
  },
  {
   "cell_type": "code",
   "execution_count": 4,
   "metadata": {
    "collapsed": false
   },
   "outputs": [
    {
     "name": "stdout",
     "output_type": "stream",
     "text": [
      "Mutation V2\n"
     ]
    },
    {
     "data": {
      "image/png": "[encoded data removed]",
      "text/plain": [
       "<matplotlib.figure.Figure at 0x7f13731bca58>"
      ]
     },
     "metadata": {},
     "output_type": "display_data"
    }
   ],
   "source": [
    "for result,(gen,maxList) in resultDico.items():\n",
    "    print(result)\n",
    "    plt.plot(gen,maxList,label=result)\n",
    "plt.legend()\n",
    "plt.savefig('test.png',dpi=800)\n",
    "plt.show()"
   ]
  },
  {
   "cell_type": "markdown",
   "metadata": {},
   "source": [
    "## Final Benchmarking"
   ]
  },
  {
   "cell_type": "markdown",
   "metadata": {
    "collapsed": true
   },
   "source": []
  },
  {
   "cell_type": "code",
   "execution_count": 153,
   "metadata": {
    "collapsed": true
   },
   "outputs": [
    {
     "name": "stderr",
     "output_type": "stream",
     "text": [
      "/home/chivunito/anaconda3/lib/python3.6/site-packages/deap/creator.py:141: RuntimeWarning: A class named 'FitnessMax' has already been created and it will be overwritten. Consider deleting previous creation of that class or rename it.\n  RuntimeWarning)\n/home/chivunito/anaconda3/lib/python3.6/site-packages/deap/creator.py:141: RuntimeWarning: A class named 'Individual' has already been created and it will be overwritten. Consider deleting previous creation of that class or rename it.\n  RuntimeWarning)\n"
     ]
    },
    {
     "name": "stdout",
     "output_type": "stream",
     "text": [
      "test5x20.in;360;4.29;24;83\nFileName\tscore\tTime\tnbServers\ttotalSize\ntest5x20.in\t360\t4.29\t24\t83\n"
     ]
    },
    {
     "data": {
      "image/png": "[encoded data removed]",
      "text/plain": [
       "<matplotlib.figure.Figure at 0x7f01c3fc30f0>"
      ]
     },
     "metadata": {},
     "output_type": "display_data"
    }
   ],
   "source": [
    "\n",
    "import time\n",
    "\n",
    "mutpb=0.5\n",
    "cxpb=0.5\n",
    "popSize=100\n",
    "nGen=90\n",
    "\n",
    "# Mutation normale\n",
    "resultDico={}\n",
    "fileName=\"test10x20.in\"\n",
    "problem = Multiple_knapsack(\"Sources_Files/\"+fileName)\n",
    "knapsacks = problem.flat()\n",
    "servers = problem.servers\n",
    "servers=sorted(problem.servers,key=lambda x:-x[1]/x[0])\n",
    "\n",
    "startTime=time.time()\n",
    "gen,max_,best,score=scoreModel(servers,knapsacks,cxpb=cxpb,mutpb=mutpb,popSize=popSize,nGen=nGen,verbose=False)\n",
    "totalTime=time.time()-startTime\n",
    "\n",
    "best=np.array(best)\n",
    "servers=np.array(servers)\n",
    "totalSize=sum(servers[best>-1][:,0])\n",
    "totalServers=np.sum(np.array(best)>-1)\n",
    "\n",
    "print(fileName,score[0],round(totalTime,2),totalServers,totalSize,sep=\";\")\n",
    "print(\"FileName\",\"score\",\"Time\",\"nbServers\",\"totalSize\",sep=\"\\t\")\n",
    "print(fileName,score[0],round(totalTime,2),totalServers,totalSize,sep=\"\\t\")\n",
    "\n",
    "plt.plot(gen,max_)\n",
    "plt.show()\n"
   ]
  },
  {
   "cell_type": "code",
   "execution_count": null,
   "metadata": {},
   "outputs": [],
   "source": []
  },
  {
   "cell_type": "code",
   "execution_count": null,
   "metadata": {},
   "outputs": [],
   "source": []
  },
  {
   "cell_type": "code",
   "execution_count": null,
   "metadata": {},
   "outputs": [],
   "source": []
  }
 ],
 "metadata": {
  "kernelspec": {
   "display_name": "Python 3",
   "language": "python",
   "name": "python3"
  },
  "language_info": {
   "codemirror_mode": {
    "name": "ipython",
    "version": 3
   },
   "file_extension": ".py",
   "mimetype": "text/x-python",
   "name": "python",
   "nbconvert_exporter": "python",
   "pygments_lexer": "ipython3",
   "version": "3.6.3"
  }
 },
 "nbformat": 4,
 "nbformat_minor": 2
}
