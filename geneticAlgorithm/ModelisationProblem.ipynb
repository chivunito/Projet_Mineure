{
 "cells": [
  {
   "cell_type": "markdown",
   "metadata": {},
   "source": [
    "# CrossOver & Mutation Probability"
   ]
  },
  {
   "cell_type": "code",
   "execution_count": 45,
   "metadata": {},
   "outputs": [],
   "source": [
    "from geneticAlgorithm.Genetic import *\n",
    "problem = Multiple_knapsack(\"Sources_Files/test10x10.in\")\n",
    "knapsacks = problem.flat()\n",
    "servers = problem.servers"
   ]
  },
  {
   "cell_type": "code",
   "execution_count": null,
   "metadata": {
    "collapsed": false
   },
   "outputs": [
    {
     "name": "stderr",
     "output_type": "stream",
     "text": [
      "/home/chivunito/anaconda3/lib/python3.6/site-packages/deap/creator.py:141: RuntimeWarning: A class named 'FitnessMax' has already been created and it will be overwritten. Consider deleting previous creation of that class or rename it.\n  RuntimeWarning)\n/home/chivunito/anaconda3/lib/python3.6/site-packages/deap/creator.py:141: RuntimeWarning: A class named 'Individual' has already been created and it will be overwritten. Consider deleting previous creation of that class or rename it.\n  RuntimeWarning)\n"
     ]
    },
    {
     "name": "stdout",
     "output_type": "stream",
     "text": [
      "0.4 0.4 399.0\n"
     ]
    },
    {
     "name": "stdout",
     "output_type": "stream",
     "text": [
      "0.4 0.45 426.0\n"
     ]
    },
    {
     "name": "stdout",
     "output_type": "stream",
     "text": [
      "0.4 0.5 413.0\n"
     ]
    },
    {
     "name": "stdout",
     "output_type": "stream",
     "text": [
      "0.4 0.55 410.0\n"
     ]
    },
    {
     "name": "stdout",
     "output_type": "stream",
     "text": [
      "0.4 0.6 413.0\n"
     ]
    },
    {
     "name": "stdout",
     "output_type": "stream",
     "text": [
      "0.45 0.4 419.0\n"
     ]
    },
    {
     "name": "stdout",
     "output_type": "stream",
     "text": [
      "0.45 0.45 403.0\n"
     ]
    },
    {
     "name": "stdout",
     "output_type": "stream",
     "text": [
      "0.45 0.5 409.0\n"
     ]
    },
    {
     "name": "stdout",
     "output_type": "stream",
     "text": [
      "0.45 0.55 417.0\n"
     ]
    },
    {
     "name": "stdout",
     "output_type": "stream",
     "text": [
      "0.45 0.6 412.0\n"
     ]
    },
    {
     "name": "stdout",
     "output_type": "stream",
     "text": [
      "0.5 0.4 398.0\n"
     ]
    },
    {
     "name": "stdout",
     "output_type": "stream",
     "text": [
      "0.5 0.45 407.0\n"
     ]
    },
    {
     "name": "stdout",
     "output_type": "stream",
     "text": [
      "0.5 0.5 425.0\n"
     ]
    },
    {
     "name": "stdout",
     "output_type": "stream",
     "text": [
      "0.5 0.55 393.0\n"
     ]
    },
    {
     "name": "stdout",
     "output_type": "stream",
     "text": [
      "0.5 0.6 417.0\n"
     ]
    },
    {
     "name": "stdout",
     "output_type": "stream",
     "text": [
      "0.55 0.4 416.0\n"
     ]
    },
    {
     "name": "stdout",
     "output_type": "stream",
     "text": [
      "0.55 0.45 427.0\n"
     ]
    },
    {
     "name": "stdout",
     "output_type": "stream",
     "text": [
      "0.55 0.5 402.0\n"
     ]
    },
    {
     "name": "stdout",
     "output_type": "stream",
     "text": [
      "0.55 0.55 413.0\n"
     ]
    },
    {
     "name": "stdout",
     "output_type": "stream",
     "text": [
      "0.55 0.6 399.0\n"
     ]
    },
    {
     "name": "stdout",
     "output_type": "stream",
     "text": [
      "0.6 0.4 410.0\n"
     ]
    },
    {
     "name": "stdout",
     "output_type": "stream",
     "text": [
      "0.6 0.45 402.0\n"
     ]
    },
    {
     "name": "stdout",
     "output_type": "stream",
     "text": [
      "0.6 0.5 402.0\n"
     ]
    },
    {
     "name": "stdout",
     "output_type": "stream",
     "text": [
      "0.6 0.55 416.0\n"
     ]
    },
    {
     "name": "stdout",
     "output_type": "stream",
     "text": [
      "0.6 0.6 396.0\n"
     ]
    }
   ],
   "source": [
    "\n",
    "# servers=sorted(servers,key=lambda x:-x[1])\n",
    "servers=sorted(problem.servers,key=lambda x:-x[1]/x[0])\n",
    "\n",
    "# print(\"Place disponible : \",problem.shape[0]*problem.shape[1]-len(problem.indispo))\n",
    "# \n",
    "popSize=100\n",
    "nGen=100\n",
    "crossOverDico={}\n",
    "# \n",
    "for cxpb in np.linspace(0.4,0.6,5):\n",
    "    subList=[]\n",
    "    for mutpb in np.linspace(0.4,0.6,5):\n",
    "        gen,maxList=scoreModel(servers,knapsacks,cxpb=cxpb,mutpb=mutpb,popSize=popSize,nGen=nGen)\n",
    "        bestInd=np.max(maxList)\n",
    "        print(cxpb,mutpb,bestInd)\n",
    "        subList.append((mutpb,bestInd))    \n",
    "    crossOverDico[cxpb]=subList"
   ]
  },
  {
   "cell_type": "code",
   "execution_count": 22,
   "metadata": {
    "collapsed": false
   },
   "outputs": [
    {
     "data": {
      "image/png": "[encoded data removed]",
      "text/plain": [
       "<matplotlib.figure.Figure at 0x7f926ca80358>"
      ]
     },
     "metadata": {},
     "output_type": "display_data"
    }
   ],
   "source": [
    "for cxpb,subList in crossOverDico.items():\n",
    "   subList=np.array(subList)\n",
    "   plt.plot(subList[:,0],subList[:,1], label=\"cxpb \"+str(round(cxpb,1)))\n",
    "plt.legend()\n",
    "plt.xlabel('Probabilité de Mutation')\n",
    "plt.ylabel('Meilleur individu')\n",
    "plt.savefig(\"tes.png\",dpi=800)\n",
    "plt.show()\n",
    "    "
   ]
  },
  {
   "cell_type": "markdown",
   "metadata": {},
   "source": [
    "# Différents sort sur les serveurs"
   ]
  },
  {
   "cell_type": "code",
   "execution_count": 49,
   "metadata": {},
   "outputs": [
    {
     "name": "stderr",
     "output_type": "stream",
     "text": [
      "/home/chivunito/anaconda3/lib/python3.6/site-packages/deap/creator.py:141: RuntimeWarning: A class named 'FitnessMax' has already been created and it will be overwritten. Consider deleting previous creation of that class or rename it.\n  RuntimeWarning)\n/home/chivunito/anaconda3/lib/python3.6/site-packages/deap/creator.py:141: RuntimeWarning: A class named 'Individual' has already been created and it will be overwritten. Consider deleting previous creation of that class or rename it.\n  RuntimeWarning)\n"
     ]
    }
   ],
   "source": [
    "mutpb=0.45\n",
    "cxpb=0.6\n",
    "popSize=20\n",
    "nGen=100\n",
    "\n",
    "resultDico={}\n",
    "problem = Multiple_knapsack(\"Sources_Files/test10x50.in\")\n",
    "knapsacks = problem.flat()\n",
    "servers = problem.servers\n",
    "\n",
    "# Not Sorted\n",
    "resultDico['Not Sorted']=scoreModel(servers,knapsacks,cxpb=cxpb,mutpb=mutpb,popSize=popSize,nGen=nGen)\n",
    "\n",
    "# par puissance\n",
    "servers=sorted(servers,key=lambda x:-x[1])\n",
    "resultDico['Puissance décroissante']=scoreModel(servers,knapsacks,cxpb=cxpb,mutpb=mutpb,popSize=popSize,nGen=nGen)\n",
    "servers=sorted(servers,key=lambda x:x[1])\n",
    "resultDico['Puissance croissante']=scoreModel(servers,knapsacks,cxpb=cxpb,mutpb=mutpb,popSize=popSize,nGen=nGen)\n",
    "\n",
    "# par ratio\n",
    "servers=sorted(problem.servers,key=lambda x:-x[1]/x[0])\n",
    "resultDico['Puissance/size décroissante']=scoreModel(servers,knapsacks,cxpb=cxpb,mutpb=mutpb,popSize=popSize,nGen=nGen)\n",
    "\n",
    "# par taille \n",
    "servers=sorted(problem.servers,key=lambda x:x[0])\n",
    "resultDico['size croissante']=scoreModel(servers,knapsacks,cxpb=cxpb,mutpb=mutpb,popSize=popSize,nGen=nGen)"
   ]
  },
  {
   "cell_type": "code",
   "execution_count": 51,
   "metadata": {},
   "outputs": [
    {
     "name": "stdout",
     "output_type": "stream",
     "text": [
      "Not Sorted\nPuissance décroissante\nPuissance croissante\nPuissance/size décroissante\nsize croissante\n"
     ]
    },
    {
     "data": {
      "image/png": "[encoded data removed]",
      "text/plain": [
       "<matplotlib.figure.Figure at 0x7fc14c2c12e8>"
      ]
     },
     "metadata": {},
     "output_type": "display_data"
    }
   ],
   "source": [
    "for result,(gen,maxList,_,_) in resultDico.items():\n",
    "    print(result)\n",
    "    plt.plot(gen,maxList,label=result)\n",
    "plt.legend()\n",
    "plt.title(\"Comparaison tri serveurs\")\n",
    "plt.xlabel('nb Generation')\n",
    "plt.savefig('test.png',dpi=800)\n",
    "plt.show()\n"
   ]
  },
  {
   "cell_type": "markdown",
   "metadata": {},
   "source": [
    "# Comparaison Type de mutation"
   ]
  },
  {
   "cell_type": "code",
   "execution_count": 59,
   "metadata": {},
   "outputs": [
    {
     "name": "stderr",
     "output_type": "stream",
     "text": [
      "/home/chivunito/anaconda3/lib/python3.6/site-packages/deap/creator.py:141: RuntimeWarning: A class named 'FitnessMax' has already been created and it will be overwritten. Consider deleting previous creation of that class or rename it.\n  RuntimeWarning)\n/home/chivunito/anaconda3/lib/python3.6/site-packages/deap/creator.py:141: RuntimeWarning: A class named 'Individual' has already been created and it will be overwritten. Consider deleting previous creation of that class or rename it.\n  RuntimeWarning)\n"
     ]
    }
   ],
   "source": [
    "mutpb=0.45\n",
    "cxpb=0.6\n",
    "popSize=20\n",
    "nGen=200\n",
    "\n",
    "# Mutation normale\n",
    "resultDico={}\n",
    "problem = Multiple_knapsack(\"Sources_Files/test10x10.in\")\n",
    "knapsacks = problem.flat()\n",
    "servers = problem.servers\n",
    "servers=sorted(problem.servers,key=lambda x:-x[1]/x[0])\n",
    "\n",
    "resultDico['Mutation V2']=scoreModel(servers,knapsacks,cxpb=cxpb,mutpb=mutpb,popSize=popSize,nGen=nGen)\n"
   ]
  },
  {
   "cell_type": "code",
   "execution_count": 78,
   "metadata": {},
   "outputs": [
    {
     "name": "stderr",
     "output_type": "stream",
     "text": [
      "/home/chivunito/anaconda3/lib/python3.6/site-packages/deap/creator.py:141: RuntimeWarning: A class named 'FitnessMax' has already been created and it will be overwritten. Consider deleting previous creation of that class or rename it.\n  RuntimeWarning)\n/home/chivunito/anaconda3/lib/python3.6/site-packages/deap/creator.py:141: RuntimeWarning: A class named 'Individual' has already been created and it will be overwritten. Consider deleting previous creation of that class or rename it.\n  RuntimeWarning)\n"
     ]
    }
   ],
   "source": [
    "from geneticAlgorithm.Genetic import *\n",
    "nGen=1000\n",
    "problem = Multiple_knapsack(\"Sources_Files/test10x10.in\")\n",
    "knapsacks = problem.flat()\n",
    "servers = problem.servers\n",
    "servers=sorted(problem.servers,key=lambda x:-x[1]/x[0])\n",
    "\n",
    "resultDico['Mutation V1']=scoreModel(servers,knapsacks,cxpb=cxpb,mutpb=mutpb,popSize=popSize,nGen=nGen)\n"
   ]
  },
  {
   "cell_type": "code",
   "execution_count": 80,
   "metadata": {
    "collapsed": false
   },
   "outputs": [
    {
     "name": "stdout",
     "output_type": "stream",
     "text": [
      "2\nMutation V2 (404,)\nMutation V1 (399,)\n"
     ]
    },
    {
     "data": {
      "image/png": "[encoded data removed]",
      "text/plain": [
       "<matplotlib.figure.Figure at 0x7fc14bf258d0>"
      ]
     },
     "metadata": {},
     "output_type": "display_data"
    }
   ],
   "source": [
    "print(len(resultDico))\n",
    "for result,(gen,maxList,t1,t2) in resultDico.items():\n",
    "    print(result,t2)\n",
    "    plt.plot(gen,maxList,label=result)\n",
    "plt.legend()\n",
    "plt.title(\"Type de mutation\")\n",
    "plt.savefig('test.png',dpi=800)\n",
    "plt.show()"
   ]
  },
  {
   "cell_type": "markdown",
   "metadata": {},
   "source": [
    "## Final Benchmarking"
   ]
  },
  {
   "cell_type": "code",
   "execution_count": null,
   "metadata": {},
   "outputs": [],
   "source": []
  },
  {
   "cell_type": "markdown",
   "metadata": {
    "collapsed": true
   },
   "source": [
    "fileName=\"test10x10.in\"\n",
    "problem = Multiple_knapsack(\"Sources_Files/\"+fileName)\n",
    "knapsacks = problem.flat()"
   ]
  },
  {
   "cell_type": "code",
   "execution_count": 85,
   "metadata": {
    "collapsed": true
   },
   "outputs": [
    {
     "data": {
      "image/png": "[encoded data removed]",
      "text/plain": [
       "<matplotlib.figure.Figure at 0x7fc14c0c8b00>"
      ]
     },
     "metadata": {},
     "output_type": "display_data"
    }
   ],
   "source": [
    "fileName=\"test20x100.in\"\n",
    "problem = Multiple_knapsack(\"Sources_Files/\"+fileName)\n",
    "knapsacks = problem.flat()\n",
    "servers = problem.servers\n",
    "servers=sorted(problem.servers,key=lambda x:-x[1]/x[0])\n",
    "problem.plot()"
   ]
  },
  {
   "cell_type": "code",
   "execution_count": null,
   "metadata": {
    "collapsed": false
   },
   "outputs": [
    {
     "name": "stderr",
     "output_type": "stream",
     "text": [
      "/home/chivunito/anaconda3/lib/python3.6/site-packages/deap/creator.py:141: RuntimeWarning: A class named 'FitnessMax' has already been created and it will be overwritten. Consider deleting previous creation of that class or rename it.\n  RuntimeWarning)\n/home/chivunito/anaconda3/lib/python3.6/site-packages/deap/creator.py:141: RuntimeWarning: A class named 'Individual' has already been created and it will be overwritten. Consider deleting previous creation of that class or rename it.\n  RuntimeWarning)\n"
     ]
    },
    {
     "name": "stdout",
     "output_type": "stream",
     "text": [
      "gen\tnevals\tavg\tmin\tmax\n0  \t10    \t0  \t0  \t0  \n"
     ]
    },
    {
     "name": "stdout",
     "output_type": "stream",
     "text": [
      "1  \t7     \t3729.6\t0  \t12529\n"
     ]
    },
    {
     "name": "stdout",
     "output_type": "stream",
     "text": [
      "2  \t6     \t4925  \t0  \t12529\n"
     ]
    },
    {
     "name": "stdout",
     "output_type": "stream",
     "text": [
      "3  \t10    \t7459.6\t0  \t12533\n"
     ]
    },
    {
     "name": "stdout",
     "output_type": "stream",
     "text": [
      "4  \t7     \t7518.2\t0  \t12533\n"
     ]
    },
    {
     "name": "stdout",
     "output_type": "stream",
     "text": [
      "5  \t9     \t7517.8\t0  \t12533\n"
     ]
    },
    {
     "name": "stdout",
     "output_type": "stream",
     "text": [
      "6  \t8     \t6343.6\t0  \t13316\n"
     ]
    },
    {
     "name": "stdout",
     "output_type": "stream",
     "text": [
      "7  \t7     \t5090.7\t0  \t13316\n"
     ]
    },
    {
     "name": "stdout",
     "output_type": "stream",
     "text": [
      "8  \t4     \t8936.7\t0  \t13402\n"
     ]
    },
    {
     "name": "stdout",
     "output_type": "stream",
     "text": [
      "9  \t7     \t5099.3\t0  \t13402\n"
     ]
    },
    {
     "name": "stdout",
     "output_type": "stream",
     "text": [
      "10 \t6     \t6352.6\t0  \t13402\n"
     ]
    },
    {
     "name": "stdout",
     "output_type": "stream",
     "text": [
      "11 \t8     \t3759.1\t0  \t12533\n"
     ]
    },
    {
     "name": "stdout",
     "output_type": "stream",
     "text": [
      "12 \t9     \t8978.4\t0  \t13683\n"
     ]
    },
    {
     "name": "stdout",
     "output_type": "stream",
     "text": [
      "13 \t9     \t5220.5\t0  \t13683\n"
     ]
    },
    {
     "name": "stdout",
     "output_type": "stream",
     "text": [
      "14 \t10    \t2595.1\t0  \t13663\n"
     ]
    },
    {
     "name": "stdout",
     "output_type": "stream",
     "text": [
      "15 \t4     \t6609.2\t0  \t14190\n"
     ]
    },
    {
     "name": "stdout",
     "output_type": "stream",
     "text": [
      "16 \t8     \t4151.6\t0  \t14190\n"
     ]
    },
    {
     "name": "stdout",
     "output_type": "stream",
     "text": [
      "17 \t8     \t5504.3\t0  \t14190\n"
     ]
    },
    {
     "name": "stdout",
     "output_type": "stream",
     "text": [
      "18 \t10    \t8359  \t0  \t14492\n"
     ]
    },
    {
     "name": "stdout",
     "output_type": "stream",
     "text": [
      "19 \t8     \t8347.3\t0  \t14289\n"
     ]
    },
    {
     "name": "stdout",
     "output_type": "stream",
     "text": [
      "20 \t4     \t8347.3\t0  \t14289\n"
     ]
    },
    {
     "name": "stdout",
     "output_type": "stream",
     "text": [
      "21 \t8     \t11130.6\t0  \t14289\n"
     ]
    },
    {
     "name": "stdout",
     "output_type": "stream",
     "text": [
      "22 \t8     \t11251.7\t0  \t14289\n"
     ]
    },
    {
     "name": "stdout",
     "output_type": "stream",
     "text": [
      "23 \t9     \t7090.5 \t0  \t14289\n"
     ]
    },
    {
     "name": "stdout",
     "output_type": "stream",
     "text": [
      "24 \t6     \t7124   \t0  \t14624\n"
     ]
    },
    {
     "name": "stdout",
     "output_type": "stream",
     "text": [
      "25 \t9     \t4286.8 \t0  \t14290\n"
     ]
    },
    {
     "name": "stdout",
     "output_type": "stream",
     "text": [
      "26 \t5     \t5715.7 \t0  \t14290\n"
     ]
    },
    {
     "name": "stdout",
     "output_type": "stream",
     "text": [
      "27 \t5     \t8574   \t0  \t14290\n"
     ]
    },
    {
     "name": "stdout",
     "output_type": "stream",
     "text": [
      "28 \t6     \t7145   \t0  \t14290\n"
     ]
    },
    {
     "name": "stdout",
     "output_type": "stream",
     "text": [
      "29 \t8     \t10003.9\t0  \t14299\n"
     ]
    },
    {
     "name": "stdout",
     "output_type": "stream",
     "text": [
      "30 \t10    \t5716.9 \t0  \t14299\n"
     ]
    },
    {
     "name": "stdout",
     "output_type": "stream",
     "text": [
      "31 \t7     \t5753.2 \t0  \t14662\n"
     ]
    },
    {
     "name": "stdout",
     "output_type": "stream",
     "text": [
      "32 \t9     \t4324.2 \t0  \t14662\n"
     ]
    },
    {
     "name": "stdout",
     "output_type": "stream",
     "text": [
      "33 \t7     \t4324.9 \t0  \t14662\n"
     ]
    },
    {
     "name": "stdout",
     "output_type": "stream",
     "text": [
      "34 \t7     \t7151   \t0  \t14336\n"
     ]
    },
    {
     "name": "stdout",
     "output_type": "stream",
     "text": [
      "35 \t8     \t2896.1 \t0  \t14663\n"
     ]
    },
    {
     "name": "stdout",
     "output_type": "stream",
     "text": [
      "36 \t7     \t5866.4 \t0  \t14750\n"
     ]
    },
    {
     "name": "stdout",
     "output_type": "stream",
     "text": [
      "37 \t10    \t5862.8 \t0  \t14712\n"
     ]
    },
    {
     "name": "stdout",
     "output_type": "stream",
     "text": [
      "38 \t6     \t8822.6 \t0  \t14713\n"
     ]
    },
    {
     "name": "stdout",
     "output_type": "stream",
     "text": [
      "39 \t7     \t5885   \t0  \t14713\n"
     ]
    },
    {
     "name": "stdout",
     "output_type": "stream",
     "text": [
      "40 \t8     \t4426.1 \t0  \t14836\n"
     ]
    },
    {
     "name": "stdout",
     "output_type": "stream",
     "text": [
      "41 \t10    \t10360.1\t0  \t14881\n"
     ]
    },
    {
     "name": "stdout",
     "output_type": "stream",
     "text": [
      "42 \t7     \t8897   \t0  \t14881\n"
     ]
    },
    {
     "name": "stdout",
     "output_type": "stream",
     "text": [
      "43 \t8     \t8910.6 \t0  \t14881\n"
     ]
    },
    {
     "name": "stdout",
     "output_type": "stream",
     "text": [
      "44 \t9     \t7423.2 \t0  \t14855\n"
     ]
    },
    {
     "name": "stdout",
     "output_type": "stream",
     "text": [
      "45 \t8     \t7460.5 \t0  \t15057\n"
     ]
    },
    {
     "name": "stdout",
     "output_type": "stream",
     "text": [
      "46 \t10    \t5973.9 \t0  \t15057\n"
     ]
    },
    {
     "name": "stdout",
     "output_type": "stream",
     "text": [
      "47 \t10    \t4508.6 \t0  \t15120\n"
     ]
    },
    {
     "name": "stdout",
     "output_type": "stream",
     "text": [
      "48 \t9     \t3024   \t0  \t15120\n"
     ]
    },
    {
     "name": "stdout",
     "output_type": "stream",
     "text": [
      "49 \t10    \t3033   \t0  \t15210\n"
     ]
    },
    {
     "name": "stdout",
     "output_type": "stream",
     "text": [
      "50 \t9     \t3041.7 \t0  \t15214\n"
     ]
    },
    {
     "name": "stdout",
     "output_type": "stream",
     "text": [
      "51 \t4     \t4537.6 \t0  \t15214\n"
     ]
    },
    {
     "name": "stdout",
     "output_type": "stream",
     "text": [
      "52 \t7     \t3019.3 \t0  \t15113\n"
     ]
    },
    {
     "name": "stdout",
     "output_type": "stream",
     "text": [
      "53 \t8     \t6052.1 \t0  \t15248\n"
     ]
    },
    {
     "name": "stdout",
     "output_type": "stream",
     "text": [
      "54 \t8     \t7560.3 \t0  \t15250\n"
     ]
    },
    {
     "name": "stdout",
     "output_type": "stream",
     "text": [
      "55 \t9     \t9089.5 \t0  \t15250\n"
     ]
    },
    {
     "name": "stdout",
     "output_type": "stream",
     "text": [
      "56 \t10    \t7622   \t0  \t15355\n"
     ]
    },
    {
     "name": "stdout",
     "output_type": "stream",
     "text": [
      "57 \t8     \t10682.5\t0  \t15355\n"
     ]
    },
    {
     "name": "stdout",
     "output_type": "stream",
     "text": [
      "58 \t8     \t4585.5 \t0  \t15355\n"
     ]
    },
    {
     "name": "stdout",
     "output_type": "stream",
     "text": [
      "59 \t9     \t3060.8 \t0  \t15355\n"
     ]
    },
    {
     "name": "stdout",
     "output_type": "stream",
     "text": [
      "60 \t6     \t9159.5 \t0  \t15355\n"
     ]
    },
    {
     "name": "stdout",
     "output_type": "stream",
     "text": [
      "61 \t10    \t4572.5 \t0  \t15253\n"
     ]
    },
    {
     "name": "stdout",
     "output_type": "stream",
     "text": [
      "62 \t6     \t6106.7 \t0  \t15342\n"
     ]
    },
    {
     "name": "stdout",
     "output_type": "stream",
     "text": [
      "63 \t9     \t7670.6 \t0  \t15406\n"
     ]
    },
    {
     "name": "stdout",
     "output_type": "stream",
     "text": [
      "64 \t8     \t7667.1 \t0  \t15406\n"
     ]
    },
    {
     "name": "stdout",
     "output_type": "stream",
     "text": [
      "65 \t7     \t7672.9 \t0  \t15406\n"
     ]
    },
    {
     "name": "stdout",
     "output_type": "stream",
     "text": [
      "66 \t7     \t12294.6\t0  \t15406\n"
     ]
    },
    {
     "name": "stdout",
     "output_type": "stream",
     "text": [
      "67 \t4     \t10771.4\t0  \t15406\n"
     ]
    },
    {
     "name": "stdout",
     "output_type": "stream",
     "text": [
      "68 \t4     \t7696.6 \t0  \t15406\n"
     ]
    },
    {
     "name": "stdout",
     "output_type": "stream",
     "text": [
      "69 \t9     \t6164.7 \t0  \t15429\n"
     ]
    },
    {
     "name": "stdout",
     "output_type": "stream",
     "text": [
      "70 \t7     \t4624.1 \t0  \t15429\n"
     ]
    },
    {
     "name": "stdout",
     "output_type": "stream",
     "text": [
      "71 \t8     \t3083.8 \t0  \t15432\n"
     ]
    },
    {
     "name": "stdout",
     "output_type": "stream",
     "text": [
      "72 \t8     \t3090   \t0  \t15494\n"
     ]
    },
    {
     "name": "stdout",
     "output_type": "stream",
     "text": [
      "73 \t6     \t4657   \t0  \t15538\n"
     ]
    },
    {
     "name": "stdout",
     "output_type": "stream",
     "text": [
      "74 \t8     \t4657   \t0  \t15538\n"
     ]
    },
    {
     "name": "stdout",
     "output_type": "stream",
     "text": [
      "75 \t7     \t12408.9\t0  \t15538\n"
     ]
    },
    {
     "name": "stdout",
     "output_type": "stream",
     "text": [
      "76 \t3     \t10872.3\t0  \t15538\n"
     ]
    },
    {
     "name": "stdout",
     "output_type": "stream",
     "text": [
      "77 \t9     \t7769   \t0  \t15538\n"
     ]
    },
    {
     "name": "stdout",
     "output_type": "stream",
     "text": [
      "78 \t7     \t4661.4 \t0  \t15538\n"
     ]
    },
    {
     "name": "stdout",
     "output_type": "stream",
     "text": [
      "79 \t7     \t3108.7 \t0  \t15571\n"
     ]
    },
    {
     "name": "stdout",
     "output_type": "stream",
     "text": [
      "80 \t7     \t3108.7 \t0  \t15571\n"
     ]
    },
    {
     "name": "stdout",
     "output_type": "stream",
     "text": [
      "81 \t4     \t3114.2 \t0  \t15571\n"
     ]
    },
    {
     "name": "stdout",
     "output_type": "stream",
     "text": [
      "82 \t6     \t7783.4 \t0  \t15578\n"
     ]
    },
    {
     "name": "stdout",
     "output_type": "stream",
     "text": [
      "83 \t6     \t9339.1 \t0  \t15578\n"
     ]
    },
    {
     "name": "stdout",
     "output_type": "stream",
     "text": [
      "84 \t7     \t7786.2 \t0  \t15585\n"
     ]
    },
    {
     "name": "stdout",
     "output_type": "stream",
     "text": [
      "85 \t8     \t7787.5 \t0  \t15633\n"
     ]
    },
    {
     "name": "stdout",
     "output_type": "stream",
     "text": [
      "86 \t9     \t9360.6 \t0  \t15633\n"
     ]
    },
    {
     "name": "stdout",
     "output_type": "stream",
     "text": [
      "87 \t6     \t9369.6 \t0  \t15633\n"
     ]
    },
    {
     "name": "stdout",
     "output_type": "stream",
     "text": [
      "88 \t10    \t7806.3 \t0  \t15633\n"
     ]
    },
    {
     "name": "stdout",
     "output_type": "stream",
     "text": [
      "89 \t8     \t6253.2 \t0  \t15633\n"
     ]
    },
    {
     "name": "stdout",
     "output_type": "stream",
     "text": [
      "90 \t7     \t4687.4 \t0  \t15633\n"
     ]
    },
    {
     "name": "stdout",
     "output_type": "stream",
     "text": [
      "91 \t4     \t7811.5 \t0  \t15633\n"
     ]
    },
    {
     "name": "stdout",
     "output_type": "stream",
     "text": [
      "92 \t9     \t6253.2 \t0  \t15633\n"
     ]
    },
    {
     "name": "stdout",
     "output_type": "stream",
     "text": [
      "93 \t9     \t10943.1\t0  \t15640\n"
     ]
    },
    {
     "name": "stdout",
     "output_type": "stream",
     "text": [
      "94 \t5     \t7817.9 \t0  \t15640\n"
     ]
    },
    {
     "name": "stdout",
     "output_type": "stream",
     "text": [
      "95 \t7     \t6253.2 \t0  \t15633\n"
     ]
    },
    {
     "name": "stdout",
     "output_type": "stream",
     "text": [
      "96 \t5     \t7816.5 \t0  \t15633\n"
     ]
    },
    {
     "name": "stdout",
     "output_type": "stream",
     "text": [
      "97 \t6     \t12506.4\t0  \t15633\n"
     ]
    },
    {
     "name": "stdout",
     "output_type": "stream",
     "text": [
      "98 \t7     \t4689.9 \t0  \t15633\n"
     ]
    },
    {
     "name": "stdout",
     "output_type": "stream",
     "text": [
      "99 \t5     \t7816.5 \t0  \t15633\n"
     ]
    },
    {
     "name": "stdout",
     "output_type": "stream",
     "text": [
      "100\t9     \t4690   \t0  \t15634\n"
     ]
    },
    {
     "name": "stdout",
     "output_type": "stream",
     "text": [
      "101\t9     \t1563.3 \t0  \t15633\n"
     ]
    },
    {
     "name": "stdout",
     "output_type": "stream",
     "text": [
      "102\t8     \t1563.3 \t0  \t15633\n"
     ]
    },
    {
     "name": "stdout",
     "output_type": "stream",
     "text": [
      "103\t7     \t3126.9 \t0  \t15636\n"
     ]
    },
    {
     "name": "stdout",
     "output_type": "stream",
     "text": [
      "104\t8     \t10946.8\t0  \t15645\n"
     ]
    },
    {
     "name": "stdout",
     "output_type": "stream",
     "text": [
      "105\t7     \t6257.1 \t0  \t15645\n"
     ]
    },
    {
     "name": "stdout",
     "output_type": "stream",
     "text": [
      "106\t8     \t6256.2 \t0  \t15648\n"
     ]
    },
    {
     "name": "stdout",
     "output_type": "stream",
     "text": [
      "107\t8     \t12503.8\t0  \t15648\n"
     ]
    },
    {
     "name": "stdout",
     "output_type": "stream",
     "text": [
      "108\t6     \t9388.6 \t0  \t15648\n"
     ]
    },
    {
     "name": "stdout",
     "output_type": "stream",
     "text": [
      "109\t9     \t10952  \t0  \t15648\n"
     ]
    },
    {
     "name": "stdout",
     "output_type": "stream",
     "text": [
      "110\t7     \t4694.4 \t0  \t15648\n"
     ]
    },
    {
     "name": "stdout",
     "output_type": "stream",
     "text": [
      "111\t6     \t7821.3 \t0  \t15652\n"
     ]
    },
    {
     "name": "stdout",
     "output_type": "stream",
     "text": [
      "112\t4     \t7818.2 \t0  \t15652\n"
     ]
    },
    {
     "name": "stdout",
     "output_type": "stream",
     "text": [
      "113\t8     \t6256.9 \t0  \t15652\n"
     ]
    },
    {
     "name": "stdout",
     "output_type": "stream",
     "text": [
      "114\t7     \t6260.4 \t0  \t15652\n"
     ]
    },
    {
     "name": "stdout",
     "output_type": "stream",
     "text": [
      "115\t8     \t6260.8 \t0  \t15652\n"
     ]
    },
    {
     "name": "stdout",
     "output_type": "stream",
     "text": [
      "116\t7     \t3130.4 \t0  \t15652\n"
     ]
    },
    {
     "name": "stdout",
     "output_type": "stream",
     "text": [
      "117\t9     \t6259.3 \t0  \t15652\n"
     ]
    },
    {
     "name": "stdout",
     "output_type": "stream",
     "text": [
      "118\t8     \t7824.5 \t0  \t15652\n"
     ]
    },
    {
     "name": "stdout",
     "output_type": "stream",
     "text": [
      "119\t6     \t9388.9 \t0  \t15652\n"
     ]
    },
    {
     "name": "stdout",
     "output_type": "stream",
     "text": [
      "120\t9     \t3129   \t0  \t15645\n"
     ]
    },
    {
     "name": "stdout",
     "output_type": "stream",
     "text": [
      "121\t10    \t10950.5\t0  \t15666\n"
     ]
    },
    {
     "name": "stdout",
     "output_type": "stream",
     "text": [
      "122\t8     \t10960.7\t0  \t15666\n"
     ]
    },
    {
     "name": "stdout",
     "output_type": "stream",
     "text": [
      "123\t8     \t7830.9 \t0  \t15666\n"
     ]
    },
    {
     "name": "stdout",
     "output_type": "stream",
     "text": [
      "124\t10    \t7830.9 \t0  \t15666\n"
     ]
    },
    {
     "name": "stdout",
     "output_type": "stream",
     "text": [
      "125\t7     \t12526.3\t0  \t15666\n"
     ]
    },
    {
     "name": "stdout",
     "output_type": "stream",
     "text": [
      "126\t6     \t7830.9 \t0  \t15666\n"
     ]
    },
    {
     "name": "stdout",
     "output_type": "stream",
     "text": [
      "127\t6     \t9397.5 \t0  \t15666\n"
     ]
    },
    {
     "name": "stdout",
     "output_type": "stream",
     "text": [
      "128\t6     \t7833   \t0  \t15666\n"
     ]
    },
    {
     "name": "stdout",
     "output_type": "stream",
     "text": [
      "129\t9     \t6266   \t0  \t15666\n"
     ]
    },
    {
     "name": "stdout",
     "output_type": "stream",
     "text": [
      "130\t8     \t1566.6 \t0  \t15666\n"
     ]
    },
    {
     "name": "stdout",
     "output_type": "stream",
     "text": [
      "131\t9     \t6267.1 \t0  \t15692\n"
     ]
    },
    {
     "name": "stdout",
     "output_type": "stream",
     "text": [
      "132\t7     \t7841.4 \t0  \t15692\n"
     ]
    },
    {
     "name": "stdout",
     "output_type": "stream",
     "text": [
      "133\t9     \t6277.7 \t0  \t15710\n"
     ]
    },
    {
     "name": "stdout",
     "output_type": "stream",
     "text": [
      "134\t8     \t4699.4 \t0  \t15689\n"
     ]
    },
    {
     "name": "stdout",
     "output_type": "stream",
     "text": [
      "135\t8     \t3137.8 \t0  \t15689\n"
     ]
    },
    {
     "name": "stdout",
     "output_type": "stream",
     "text": [
      "136\t5     \t6274.4 \t0  \t15689\n"
     ]
    },
    {
     "name": "stdout",
     "output_type": "stream",
     "text": [
      "137\t10    \t12547.2\t0  \t15691\n"
     ]
    },
    {
     "name": "stdout",
     "output_type": "stream",
     "text": [
      "138\t8     \t6275.8 \t0  \t15691\n"
     ]
    },
    {
     "name": "stdout",
     "output_type": "stream",
     "text": [
      "139\t6     \t9407.5 \t0  \t15691\n"
     ]
    },
    {
     "name": "stdout",
     "output_type": "stream",
     "text": [
      "140\t8     \t6269.5 \t0  \t15691\n"
     ]
    },
    {
     "name": "stdout",
     "output_type": "stream",
     "text": [
      "141\t7     \t3138.4 \t0  \t15693\n"
     ]
    },
    {
     "name": "stdout",
     "output_type": "stream",
     "text": [
      "142\t9     \t9416.6 \t0  \t15706\n"
     ]
    },
    {
     "name": "stdout",
     "output_type": "stream",
     "text": [
      "143\t8     \t10985.9\t0  \t15706\n"
     ]
    },
    {
     "name": "stdout",
     "output_type": "stream",
     "text": [
      "144\t10    \t6280.9 \t0  \t15706\n"
     ]
    },
    {
     "name": "stdout",
     "output_type": "stream",
     "text": [
      "145\t6     \t7851.5 \t0  \t15706\n"
     ]
    },
    {
     "name": "stdout",
     "output_type": "stream",
     "text": [
      "146\t5     \t6280.9 \t0  \t15706\n"
     ]
    },
    {
     "name": "stdout",
     "output_type": "stream",
     "text": [
      "147\t4     \t10992.7\t0  \t15706\n"
     ]
    },
    {
     "name": "stdout",
     "output_type": "stream",
     "text": [
      "148\t8     \t10990.4\t0  \t15706\n"
     ]
    },
    {
     "name": "stdout",
     "output_type": "stream",
     "text": [
      "149\t8     \t6282.6 \t0  \t15708\n"
     ]
    },
    {
     "name": "stdout",
     "output_type": "stream",
     "text": [
      "150\t7     \t4712   \t0  \t15708\ntest100x100.in;15708;79.64;1094;8753\nFileName\tscore\tTime\tnbServers\ttotalSize\ntest100x100.in\t15708\t79.64\t1094\t8753\n"
     ]
    },
    {
     "data": {
      "image/png": "[encoded data removed]",
      "text/plain": [
       "<matplotlib.figure.Figure at 0x7fc14bfecba8>"
      ]
     },
     "metadata": {},
     "output_type": "display_data"
    }
   ],
   "source": [
    "\n",
    "import time\n",
    "\n",
    "mutpb=0.5\n",
    "cxpb=0.5\n",
    "popSize=10\n",
    "nGen=150\n",
    "\n",
    "# Mutation normale\n",
    "resultDico={}\n",
    "\n",
    "\n",
    "startTime=time.time()\n",
    "gen,max_,best,score=scoreModel(servers,knapsacks,cxpb=cxpb,mutpb=mutpb,popSize=popSize,nGen=nGen,verbose=True)\n",
    "totalTime=time.time()-startTime\n",
    "\n",
    "best=np.array(best)\n",
    "servers=np.array(servers)\n",
    "totalSize=sum(servers[best>-1][:,0])\n",
    "totalServers=np.sum(np.array(best)>-1)\n",
    "\n",
    "print(fileName,score[0],round(totalTime,2),totalServers,totalSize,sep=\";\")\n",
    "print(\"FileName\",\"score\",\"Time\",\"nbServers\",\"totalSize\",sep=\"\\t\")\n",
    "print(fileName,score[0],round(totalTime,2),totalServers,totalSize,sep=\"\\t\")\n",
    "\n",
    "plt.plot(gen,max_)\n",
    "plt.show()\n"
   ]
  },
  {
   "cell_type": "code",
   "execution_count": null,
   "metadata": {},
   "outputs": [],
   "source": []
  },
  {
   "cell_type": "code",
   "execution_count": null,
   "metadata": {},
   "outputs": [],
   "source": []
  },
  {
   "cell_type": "code",
   "execution_count": null,
   "metadata": {},
   "outputs": [],
   "source": []
  }
 ],
 "metadata": {
  "kernelspec": {
   "display_name": "Python 3",
   "language": "python",
   "name": "python3"
  },
  "language_info": {
   "codemirror_mode": {
    "name": "ipython",
    "version": 3
   },
   "file_extension": ".py",
   "mimetype": "text/x-python",
   "name": "python",
   "nbconvert_exporter": "python",
   "pygments_lexer": "ipython3",
   "version": "3.6.3"
  }
 },
 "nbformat": 4,
 "nbformat_minor": 2
}
